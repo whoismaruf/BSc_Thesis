{
 "cells": [
  {
   "cell_type": "code",
   "execution_count": 95,
   "metadata": {
    "tags": []
   },
   "outputs": [],
   "source": [
    "import pandas as pd\n",
    "import matplotlib.pyplot as plt\n",
    "import seaborn as sns\n",
    "import plotly.express as px\n",
    "from scipy import stats\n",
    "from statsmodels.formula.api import logit\n",
    "from statsmodels.api import Logit\n",
    "from sklearn.preprocessing import LabelEncoder"
   ]
  },
  {
   "cell_type": "markdown",
   "metadata": {},
   "source": [
    "### Configuration\n",
    "Configure the notebooks to make a better look and feel which assists to do the analysis in easy ways."
   ]
  },
  {
   "cell_type": "code",
   "execution_count": 96,
   "metadata": {},
   "outputs": [],
   "source": [
    "import warnings\n",
    "warnings.filterwarnings('ignore')\n",
    "\n",
    "%matplotlib inline\n",
    "pd.set_option('display.max_columns', 100)"
   ]
  },
  {
   "cell_type": "code",
   "execution_count": 97,
   "metadata": {
    "jupyter": {
     "outputs_hidden": false
    }
   },
   "outputs": [
    {
     "data": {
      "text/plain": "           Q_2  Q_3  Q_4     Q_5  Q_6  Q_7  Drop_out  Q_8  Q_9  Q_10  Q_11  \\\nSerial_no                                                                    \n1            2   27    8  150000  3.0    0         1    1    1     1     1   \n2            2   26   10  115000  0.0    0         1    1    3     3     1   \n3            2   26    6  120000  3.0    2         1    1    3     3     2   \n\n           Q_12  Q_13  Q_16  Q_17  Q_18  Q_19  Q_20  Q_21  Q_22  Q_23  Q_24  \\\nSerial_no                                                                     \n1             2     2     2     2     7     6     2     1     2     2     2   \n2             2     2     1     3     8     7     2     2     2     2     1   \n3             2     2     2     2     4     4     2     1     2     2     1   \n\n           Q_25  Q_26  Q_27  Q_28  Q_29  Q_30  Q_31  Q_32  Q_33  Q_34  Q_35_i  \\\nSerial_no                                                                       \n1             2     1     1     2     3     2     1     1     3     2       1   \n2             1     2     1     1     3     2     1     1     3     1       2   \n3             1     1     2     2     3     2     2     3     3     1       2   \n\n           Q_35_ii  Q_35_iii  Q_35_iv  Q_35_v  Q_35_vi  Q_36  Q_37_i  Q_37_ii  \\\nSerial_no                                                                       \n1                2         2        2       2        2     1       1        1   \n2                2         2        2       2        1     1       1        1   \n3                2         2        2       2        1     1       1        1   \n\n           Q_37_iii  Q_37_iv  Q_37_v  Q_37_vi  Q_37_vii  Q_37_viii  Q_37_ix  \\\nSerial_no                                                                     \n1                 1        5       1        1         1          1        1   \n2                 1        3       2        2         1          1        1   \n3                 2        2       2        1         2          1        1   \n\n           Q_37_x  Q_37_xi  Q_37_xii  Q_37_xiii  Q_37_xiv  Q_37_xv  \nSerial_no                                                           \n1               1        1         1          1         1        5  \n2               2        2         2          5         5        4  \n3               1        1         1          5         5        3  ",
      "text/html": "<div>\n<style scoped>\n    .dataframe tbody tr th:only-of-type {\n        vertical-align: middle;\n    }\n\n    .dataframe tbody tr th {\n        vertical-align: top;\n    }\n\n    .dataframe thead th {\n        text-align: right;\n    }\n</style>\n<table border=\"1\" class=\"dataframe\">\n  <thead>\n    <tr style=\"text-align: right;\">\n      <th></th>\n      <th>Q_2</th>\n      <th>Q_3</th>\n      <th>Q_4</th>\n      <th>Q_5</th>\n      <th>Q_6</th>\n      <th>Q_7</th>\n      <th>Drop_out</th>\n      <th>Q_8</th>\n      <th>Q_9</th>\n      <th>Q_10</th>\n      <th>Q_11</th>\n      <th>Q_12</th>\n      <th>Q_13</th>\n      <th>Q_16</th>\n      <th>Q_17</th>\n      <th>Q_18</th>\n      <th>Q_19</th>\n      <th>Q_20</th>\n      <th>Q_21</th>\n      <th>Q_22</th>\n      <th>Q_23</th>\n      <th>Q_24</th>\n      <th>Q_25</th>\n      <th>Q_26</th>\n      <th>Q_27</th>\n      <th>Q_28</th>\n      <th>Q_29</th>\n      <th>Q_30</th>\n      <th>Q_31</th>\n      <th>Q_32</th>\n      <th>Q_33</th>\n      <th>Q_34</th>\n      <th>Q_35_i</th>\n      <th>Q_35_ii</th>\n      <th>Q_35_iii</th>\n      <th>Q_35_iv</th>\n      <th>Q_35_v</th>\n      <th>Q_35_vi</th>\n      <th>Q_36</th>\n      <th>Q_37_i</th>\n      <th>Q_37_ii</th>\n      <th>Q_37_iii</th>\n      <th>Q_37_iv</th>\n      <th>Q_37_v</th>\n      <th>Q_37_vi</th>\n      <th>Q_37_vii</th>\n      <th>Q_37_viii</th>\n      <th>Q_37_ix</th>\n      <th>Q_37_x</th>\n      <th>Q_37_xi</th>\n      <th>Q_37_xii</th>\n      <th>Q_37_xiii</th>\n      <th>Q_37_xiv</th>\n      <th>Q_37_xv</th>\n    </tr>\n    <tr>\n      <th>Serial_no</th>\n      <th></th>\n      <th></th>\n      <th></th>\n      <th></th>\n      <th></th>\n      <th></th>\n      <th></th>\n      <th></th>\n      <th></th>\n      <th></th>\n      <th></th>\n      <th></th>\n      <th></th>\n      <th></th>\n      <th></th>\n      <th></th>\n      <th></th>\n      <th></th>\n      <th></th>\n      <th></th>\n      <th></th>\n      <th></th>\n      <th></th>\n      <th></th>\n      <th></th>\n      <th></th>\n      <th></th>\n      <th></th>\n      <th></th>\n      <th></th>\n      <th></th>\n      <th></th>\n      <th></th>\n      <th></th>\n      <th></th>\n      <th></th>\n      <th></th>\n      <th></th>\n      <th></th>\n      <th></th>\n      <th></th>\n      <th></th>\n      <th></th>\n      <th></th>\n      <th></th>\n      <th></th>\n      <th></th>\n      <th></th>\n      <th></th>\n      <th></th>\n      <th></th>\n      <th></th>\n      <th></th>\n      <th></th>\n    </tr>\n  </thead>\n  <tbody>\n    <tr>\n      <th>1</th>\n      <td>2</td>\n      <td>27</td>\n      <td>8</td>\n      <td>150000</td>\n      <td>3.0</td>\n      <td>0</td>\n      <td>1</td>\n      <td>1</td>\n      <td>1</td>\n      <td>1</td>\n      <td>1</td>\n      <td>2</td>\n      <td>2</td>\n      <td>2</td>\n      <td>2</td>\n      <td>7</td>\n      <td>6</td>\n      <td>2</td>\n      <td>1</td>\n      <td>2</td>\n      <td>2</td>\n      <td>2</td>\n      <td>2</td>\n      <td>1</td>\n      <td>1</td>\n      <td>2</td>\n      <td>3</td>\n      <td>2</td>\n      <td>1</td>\n      <td>1</td>\n      <td>3</td>\n      <td>2</td>\n      <td>1</td>\n      <td>2</td>\n      <td>2</td>\n      <td>2</td>\n      <td>2</td>\n      <td>2</td>\n      <td>1</td>\n      <td>1</td>\n      <td>1</td>\n      <td>1</td>\n      <td>5</td>\n      <td>1</td>\n      <td>1</td>\n      <td>1</td>\n      <td>1</td>\n      <td>1</td>\n      <td>1</td>\n      <td>1</td>\n      <td>1</td>\n      <td>1</td>\n      <td>1</td>\n      <td>5</td>\n    </tr>\n    <tr>\n      <th>2</th>\n      <td>2</td>\n      <td>26</td>\n      <td>10</td>\n      <td>115000</td>\n      <td>0.0</td>\n      <td>0</td>\n      <td>1</td>\n      <td>1</td>\n      <td>3</td>\n      <td>3</td>\n      <td>1</td>\n      <td>2</td>\n      <td>2</td>\n      <td>1</td>\n      <td>3</td>\n      <td>8</td>\n      <td>7</td>\n      <td>2</td>\n      <td>2</td>\n      <td>2</td>\n      <td>2</td>\n      <td>1</td>\n      <td>1</td>\n      <td>2</td>\n      <td>1</td>\n      <td>1</td>\n      <td>3</td>\n      <td>2</td>\n      <td>1</td>\n      <td>1</td>\n      <td>3</td>\n      <td>1</td>\n      <td>2</td>\n      <td>2</td>\n      <td>2</td>\n      <td>2</td>\n      <td>2</td>\n      <td>1</td>\n      <td>1</td>\n      <td>1</td>\n      <td>1</td>\n      <td>1</td>\n      <td>3</td>\n      <td>2</td>\n      <td>2</td>\n      <td>1</td>\n      <td>1</td>\n      <td>1</td>\n      <td>2</td>\n      <td>2</td>\n      <td>2</td>\n      <td>5</td>\n      <td>5</td>\n      <td>4</td>\n    </tr>\n    <tr>\n      <th>3</th>\n      <td>2</td>\n      <td>26</td>\n      <td>6</td>\n      <td>120000</td>\n      <td>3.0</td>\n      <td>2</td>\n      <td>1</td>\n      <td>1</td>\n      <td>3</td>\n      <td>3</td>\n      <td>2</td>\n      <td>2</td>\n      <td>2</td>\n      <td>2</td>\n      <td>2</td>\n      <td>4</td>\n      <td>4</td>\n      <td>2</td>\n      <td>1</td>\n      <td>2</td>\n      <td>2</td>\n      <td>1</td>\n      <td>1</td>\n      <td>1</td>\n      <td>2</td>\n      <td>2</td>\n      <td>3</td>\n      <td>2</td>\n      <td>2</td>\n      <td>3</td>\n      <td>3</td>\n      <td>1</td>\n      <td>2</td>\n      <td>2</td>\n      <td>2</td>\n      <td>2</td>\n      <td>2</td>\n      <td>1</td>\n      <td>1</td>\n      <td>1</td>\n      <td>1</td>\n      <td>2</td>\n      <td>2</td>\n      <td>2</td>\n      <td>1</td>\n      <td>2</td>\n      <td>1</td>\n      <td>1</td>\n      <td>1</td>\n      <td>1</td>\n      <td>1</td>\n      <td>5</td>\n      <td>5</td>\n      <td>3</td>\n    </tr>\n  </tbody>\n</table>\n</div>"
     },
     "execution_count": 97,
     "metadata": {},
     "output_type": "execute_result"
    }
   ],
   "source": [
    "df = pd.read_excel(\"data2.xlsx\", index_col='Serial_no')\n",
    "df = df.loc[:, df.columns != 'Q_1']\n",
    "df = df.drop(columns=['Q_14', 'Q_15'])\n",
    "df.head(3)"
   ]
  },
  {
   "cell_type": "code",
   "execution_count": 98,
   "metadata": {},
   "outputs": [
    {
     "data": {
      "text/plain": "           Q_2  Q_7  Q_8  Q_9  Q_10  Q_11  Q_12  Q_13  Q_16  Q_17  Q_20  Q_21  \\\nSerial_no                                                                       \n1            2    0    1    1     1     1     2     2     2     2     2     1   \n2            2    0    1    3     3     1     2     2     1     3     2     2   \n\n           Q_22  Q_23  Q_24  Q_25  Q_26  Q_27  Q_28  Q_29  Q_30  Q_31  Q_32  \\\nSerial_no                                                                     \n1             2     2     2     2     1     1     2     3     2     1     1   \n2             2     2     1     1     2     1     1     3     2     1     1   \n\n           Q_33  Q_34  Q_35_i  Q_35_ii  Q_35_iii  Q_35_iv  Q_35_v  Q_35_vi  \\\nSerial_no                                                                    \n1             3     2       1        2         2        2       2        2   \n2             3     1       2        2         2        2       2        1   \n\n           Q_36  Q_37_i  Q_37_ii  Q_37_iii  Q_37_iv  Q_37_v  Q_37_vi  \\\nSerial_no                                                              \n1             1       1        1         1        5       1        1   \n2             1       1        1         1        3       2        2   \n\n           Q_37_vii  Q_37_viii  Q_37_ix  Q_37_x  Q_37_xi  Q_37_xii  Q_37_xiii  \\\nSerial_no                                                                       \n1                 1          1        1       1        1         1          1   \n2                 1          1        1       2        2         2          5   \n\n           Q_37_xiv  Q_37_xv  \nSerial_no                     \n1                 1        5  \n2                 5        4  ",
      "text/html": "<div>\n<style scoped>\n    .dataframe tbody tr th:only-of-type {\n        vertical-align: middle;\n    }\n\n    .dataframe tbody tr th {\n        vertical-align: top;\n    }\n\n    .dataframe thead th {\n        text-align: right;\n    }\n</style>\n<table border=\"1\" class=\"dataframe\">\n  <thead>\n    <tr style=\"text-align: right;\">\n      <th></th>\n      <th>Q_2</th>\n      <th>Q_7</th>\n      <th>Q_8</th>\n      <th>Q_9</th>\n      <th>Q_10</th>\n      <th>Q_11</th>\n      <th>Q_12</th>\n      <th>Q_13</th>\n      <th>Q_16</th>\n      <th>Q_17</th>\n      <th>Q_20</th>\n      <th>Q_21</th>\n      <th>Q_22</th>\n      <th>Q_23</th>\n      <th>Q_24</th>\n      <th>Q_25</th>\n      <th>Q_26</th>\n      <th>Q_27</th>\n      <th>Q_28</th>\n      <th>Q_29</th>\n      <th>Q_30</th>\n      <th>Q_31</th>\n      <th>Q_32</th>\n      <th>Q_33</th>\n      <th>Q_34</th>\n      <th>Q_35_i</th>\n      <th>Q_35_ii</th>\n      <th>Q_35_iii</th>\n      <th>Q_35_iv</th>\n      <th>Q_35_v</th>\n      <th>Q_35_vi</th>\n      <th>Q_36</th>\n      <th>Q_37_i</th>\n      <th>Q_37_ii</th>\n      <th>Q_37_iii</th>\n      <th>Q_37_iv</th>\n      <th>Q_37_v</th>\n      <th>Q_37_vi</th>\n      <th>Q_37_vii</th>\n      <th>Q_37_viii</th>\n      <th>Q_37_ix</th>\n      <th>Q_37_x</th>\n      <th>Q_37_xi</th>\n      <th>Q_37_xii</th>\n      <th>Q_37_xiii</th>\n      <th>Q_37_xiv</th>\n      <th>Q_37_xv</th>\n    </tr>\n    <tr>\n      <th>Serial_no</th>\n      <th></th>\n      <th></th>\n      <th></th>\n      <th></th>\n      <th></th>\n      <th></th>\n      <th></th>\n      <th></th>\n      <th></th>\n      <th></th>\n      <th></th>\n      <th></th>\n      <th></th>\n      <th></th>\n      <th></th>\n      <th></th>\n      <th></th>\n      <th></th>\n      <th></th>\n      <th></th>\n      <th></th>\n      <th></th>\n      <th></th>\n      <th></th>\n      <th></th>\n      <th></th>\n      <th></th>\n      <th></th>\n      <th></th>\n      <th></th>\n      <th></th>\n      <th></th>\n      <th></th>\n      <th></th>\n      <th></th>\n      <th></th>\n      <th></th>\n      <th></th>\n      <th></th>\n      <th></th>\n      <th></th>\n      <th></th>\n      <th></th>\n      <th></th>\n      <th></th>\n      <th></th>\n      <th></th>\n    </tr>\n  </thead>\n  <tbody>\n    <tr>\n      <th>1</th>\n      <td>2</td>\n      <td>0</td>\n      <td>1</td>\n      <td>1</td>\n      <td>1</td>\n      <td>1</td>\n      <td>2</td>\n      <td>2</td>\n      <td>2</td>\n      <td>2</td>\n      <td>2</td>\n      <td>1</td>\n      <td>2</td>\n      <td>2</td>\n      <td>2</td>\n      <td>2</td>\n      <td>1</td>\n      <td>1</td>\n      <td>2</td>\n      <td>3</td>\n      <td>2</td>\n      <td>1</td>\n      <td>1</td>\n      <td>3</td>\n      <td>2</td>\n      <td>1</td>\n      <td>2</td>\n      <td>2</td>\n      <td>2</td>\n      <td>2</td>\n      <td>2</td>\n      <td>1</td>\n      <td>1</td>\n      <td>1</td>\n      <td>1</td>\n      <td>5</td>\n      <td>1</td>\n      <td>1</td>\n      <td>1</td>\n      <td>1</td>\n      <td>1</td>\n      <td>1</td>\n      <td>1</td>\n      <td>1</td>\n      <td>1</td>\n      <td>1</td>\n      <td>5</td>\n    </tr>\n    <tr>\n      <th>2</th>\n      <td>2</td>\n      <td>0</td>\n      <td>1</td>\n      <td>3</td>\n      <td>3</td>\n      <td>1</td>\n      <td>2</td>\n      <td>2</td>\n      <td>1</td>\n      <td>3</td>\n      <td>2</td>\n      <td>2</td>\n      <td>2</td>\n      <td>2</td>\n      <td>1</td>\n      <td>1</td>\n      <td>2</td>\n      <td>1</td>\n      <td>1</td>\n      <td>3</td>\n      <td>2</td>\n      <td>1</td>\n      <td>1</td>\n      <td>3</td>\n      <td>1</td>\n      <td>2</td>\n      <td>2</td>\n      <td>2</td>\n      <td>2</td>\n      <td>2</td>\n      <td>1</td>\n      <td>1</td>\n      <td>1</td>\n      <td>1</td>\n      <td>1</td>\n      <td>3</td>\n      <td>2</td>\n      <td>2</td>\n      <td>1</td>\n      <td>1</td>\n      <td>1</td>\n      <td>2</td>\n      <td>2</td>\n      <td>2</td>\n      <td>5</td>\n      <td>5</td>\n      <td>4</td>\n    </tr>\n  </tbody>\n</table>\n</div>"
     },
     "execution_count": 98,
     "metadata": {},
     "output_type": "execute_result"
    }
   ],
   "source": [
    "categorical_d = ['Q_2', 'Q_7', 'Q_8', 'Q_9', 'Q_10', 'Q_11', 'Q_12', 'Q_13', 'Q_16', 'Q_17', 'Q_20', 'Q_21', 'Q_22', 'Q_23', 'Q_24', 'Q_25', 'Q_26', 'Q_27', 'Q_28', 'Q_29', 'Q_30', 'Q_31', 'Q_32', 'Q_33', 'Q_34', 'Q_35_i', 'Q_35_ii', 'Q_35_iii', 'Q_35_iv', 'Q_35_v', 'Q_35_vi', 'Q_36', 'Q_37_i', 'Q_37_ii', 'Q_37_iii', 'Q_37_iv', 'Q_37_v', 'Q_37_vi', 'Q_37_vii', 'Q_37_viii', 'Q_37_ix', 'Q_37_x', 'Q_37_xi', 'Q_37_xii', 'Q_37_xiii', 'Q_37_xiv', 'Q_37_xv']\n",
    "\n",
    "numerical_d = ['Q_3', 'Q_4', 'Q_5', 'Q_18', 'Q_19']\n",
    "\n",
    "df[categorical_d].head(2)"
   ]
  },
  {
   "cell_type": "code",
   "execution_count": 99,
   "metadata": {},
   "outputs": [
    {
     "name": "stdout",
     "output_type": "stream",
     "text": [
      "Drop_out   0   1\n",
      "Q_2             \n",
      "1         37  98\n",
      "2         29  46\n",
      "------------------\n",
      "Drop_out   0    1\n",
      "Q_7              \n",
      "0          0    3\n",
      "2         66  141\n",
      "------------------\n",
      "Drop_out   0   1\n",
      "Q_8             \n",
      "1         24  93\n",
      "2         17  44\n",
      "3         25   7\n",
      "------------------\n",
      "Drop_out   0   1\n",
      "Q_9             \n",
      "1          5  41\n",
      "2          9  18\n",
      "3         52  85\n",
      "------------------\n",
      "Drop_out   0   1\n",
      "Q_10            \n",
      "1          2  16\n",
      "2         11  73\n",
      "3         53  55\n",
      "------------------\n",
      "Drop_out   0    1\n",
      "Q_11             \n",
      "1         36  117\n",
      "2         30   27\n",
      "------------------\n",
      "Drop_out   0   1\n",
      "Q_12            \n",
      "1          0  53\n",
      "2          0  91\n",
      "3         66   0\n",
      "------------------\n",
      "Drop_out   0   1\n",
      "Q_13            \n",
      "1          4  37\n",
      "2         32  79\n",
      "3         30  28\n",
      "------------------\n",
      "Drop_out   0    1\n",
      "Q_16             \n",
      "1         39   29\n",
      "2         27  113\n",
      "22         0    2\n",
      "------------------\n",
      "Drop_out   0   1\n",
      "Q_17            \n",
      "1          1  31\n",
      "2         20  65\n",
      "3         45  48\n",
      "------------------\n",
      "Drop_out   0    1\n",
      "Q_20             \n",
      "1          0    7\n",
      "2         66  137\n",
      "------------------\n",
      "Drop_out   0    1\n",
      "Q_21             \n",
      "1         43  114\n",
      "2         23   30\n",
      "------------------\n",
      "Drop_out   0    1\n",
      "Q_22             \n",
      "1         17   43\n",
      "2         49  101\n",
      "------------------\n",
      "Drop_out   0   1\n",
      "Q_23            \n",
      "1         49  65\n",
      "2         17  79\n",
      "------------------\n",
      "Drop_out   0   1\n",
      "Q_24            \n",
      "1         16  71\n",
      "2         50  73\n",
      "------------------\n",
      "Drop_out   0    1\n",
      "Q_25             \n",
      "1          8   15\n",
      "2         58  129\n",
      "------------------\n",
      "Drop_out   0    1\n",
      "Q_26             \n",
      "1         61  118\n",
      "2          5   26\n",
      "------------------\n",
      "Drop_out   0    1\n",
      "Q_27             \n",
      "1         32  109\n",
      "2         34   35\n",
      "------------------\n",
      "Drop_out   0   1\n",
      "Q_28            \n",
      "1         36  80\n",
      "2         30  64\n",
      "------------------\n",
      "Drop_out   0   1\n",
      "Q_29            \n",
      "1          2  12\n",
      "2          6  57\n",
      "3         58  75\n",
      "------------------\n",
      "Drop_out   0    1\n",
      "Q_30             \n",
      "1         13   17\n",
      "2         53  127\n",
      "------------------\n",
      "Drop_out   0    1\n",
      "Q_31             \n",
      "1         35  100\n",
      "2         31   44\n",
      "------------------\n",
      "Drop_out   0   1\n",
      "Q_32            \n",
      "1         23  54\n",
      "2         31  73\n",
      "3         12  17\n",
      "------------------\n",
      "Drop_out   0   1\n",
      "Q_33            \n",
      "1          4  11\n",
      "2         18  38\n",
      "3         44  95\n",
      "------------------\n",
      "Drop_out   0   1\n",
      "Q_34            \n",
      "1         51  84\n",
      "2          8  30\n",
      "3          7  30\n",
      "------------------\n",
      "Drop_out   0    1\n",
      "Q_35_i           \n",
      "1         16   22\n",
      "2         50  122\n",
      "------------------\n",
      "Drop_out   0   1\n",
      "Q_35_ii         \n",
      "1          8  48\n",
      "2         58  96\n",
      "------------------\n",
      "Drop_out   0    1\n",
      "Q_35_iii         \n",
      "1          7    3\n",
      "2         59  141\n",
      "------------------\n",
      "Drop_out   0    1\n",
      "Q_35_iv          \n",
      "1          7    3\n",
      "2         59  141\n",
      "------------------\n",
      "Drop_out   0    1\n",
      "Q_35_v           \n",
      "1          7   23\n",
      "2         59  121\n",
      "------------------\n",
      "Drop_out   0   1\n",
      "Q_35_vi         \n",
      "1         40  55\n",
      "2         26  89\n",
      "------------------\n",
      "Drop_out   0    1\n",
      "Q_36             \n",
      "1         21   26\n",
      "2         45  118\n",
      "------------------\n",
      "Drop_out   0   1\n",
      "Q_37_i          \n",
      "1         34  89\n",
      "2         18  26\n",
      "3          3  13\n",
      "4         11  13\n",
      "5          0   3\n",
      "------------------\n",
      "Drop_out   0   1\n",
      "Q_37_ii         \n",
      "1         37  94\n",
      "2         19  39\n",
      "3          9   8\n",
      "4          1   3\n",
      "------------------\n",
      "Drop_out   0   1\n",
      "Q_37_iii        \n",
      "1         25  38\n",
      "2         28  31\n",
      "3          9  18\n",
      "4          4  42\n",
      "5          0  15\n",
      "------------------\n",
      "Drop_out   0   1\n",
      "Q_37_iv         \n",
      "1         15  14\n",
      "2         35  48\n",
      "3         11  51\n",
      "4          2  25\n",
      "5          3   6\n",
      "------------------\n",
      "Drop_out   0   1\n",
      "Q_37_v          \n",
      "1         22  62\n",
      "2         34  62\n",
      "3          5  14\n",
      "4          2   6\n",
      "5          3   0\n",
      "------------------\n",
      "Drop_out   0   1\n",
      "Q_37_vi         \n",
      "1         24  26\n",
      "2         22  34\n",
      "3          8  39\n",
      "4          5  22\n",
      "5          7  23\n",
      "------------------\n",
      "Drop_out   0   1\n",
      "Q_37_vii        \n",
      "1         15  35\n",
      "2         39  53\n",
      "3         10  19\n",
      "4          1  31\n",
      "5          1   6\n",
      "------------------\n",
      "Drop_out    0   1\n",
      "Q_37_viii        \n",
      "1          27  80\n",
      "2          23  34\n",
      "3          14  18\n",
      "4           2  10\n",
      "5           0   2\n",
      "------------------\n",
      "Drop_out   0   1\n",
      "Q_37_ix         \n",
      "1         31  80\n",
      "2         28  39\n",
      "3          7  21\n",
      "4          0   4\n",
      "------------------\n",
      "Drop_out   0   1\n",
      "Q_37_x          \n",
      "1         22  55\n",
      "2         28  64\n",
      "3          7  19\n",
      "4          7   4\n",
      "5          2   2\n",
      "------------------\n",
      "Drop_out   0   1\n",
      "Q_37_xi         \n",
      "1         21  50\n",
      "2         28  44\n",
      "3          7  24\n",
      "4          2  12\n",
      "5          8  14\n",
      "------------------\n",
      "Drop_out   0   1\n",
      "Q_37_xii        \n",
      "1         46  78\n",
      "2         11  35\n",
      "3          8  21\n",
      "4          1  10\n",
      "------------------\n",
      "Drop_out    0   1\n",
      "Q_37_xiii        \n",
      "1          18  10\n",
      "2          12  13\n",
      "3          11  23\n",
      "4           5  20\n",
      "5          20  78\n",
      "------------------\n",
      "Drop_out   0   1\n",
      "Q_37_xiv        \n",
      "1         20   6\n",
      "2         14  11\n",
      "3          9  26\n",
      "4          3  27\n",
      "5         20  74\n",
      "------------------\n",
      "Drop_out   0   1\n",
      "Q_37_xv         \n",
      "1         10  14\n",
      "2         16  44\n",
      "3         11  30\n",
      "4         27  35\n",
      "5          2  21\n",
      "------------------\n"
     ]
    }
   ],
   "source": [
    "for i in categorical_d:\n",
    "    print(pd.crosstab(index=df[i], columns=df['Drop_out']))\n",
    "    print(\"------------------\")"
   ]
  },
  {
   "cell_type": "code",
   "execution_count": 100,
   "metadata": {},
   "outputs": [],
   "source": [
    "# fig = plt.figure(figsize=(32, 90))\n",
    "# k = 1\n",
    "# for i in categorical_d:\n",
    "#     plt.subplot(13, 4, k)\n",
    "#     crs = pd.crosstab(index=df['Drop_out'], columns=df[i])\n",
    "#     sns.barplot(crs)\n",
    "#     k += 1\n",
    "#\n",
    "# plt.show()"
   ]
  },
  {
   "cell_type": "code",
   "execution_count": 101,
   "outputs": [
    {
     "data": {
      "text/plain": "<Figure size 1500x800 with 5 Axes>",
      "image/png": "[encoded data removed]"
     },
     "metadata": {},
     "output_type": "display_data"
    }
   ],
   "source": [
    "fig = plt.figure(figsize=(15, 8))\n",
    "k = 1\n",
    "for i in numerical_d:\n",
    "    plt.subplot(2, 3, k)\n",
    "    plt.hist(df[i], label=df[i], histtype='step')\n",
    "    k += 1\n",
    "\n",
    "plt.tight_layout()\n",
    "plt.show()"
   ],
   "metadata": {
    "collapsed": false
   }
  },
  {
   "cell_type": "code",
   "execution_count": 102,
   "outputs": [],
   "source": [
    "sig_factors = []"
   ],
   "metadata": {
    "collapsed": false
   }
  },
  {
   "cell_type": "code",
   "execution_count": 103,
   "outputs": [],
   "source": [
    "for i in numerical_d:\n",
    "    p_val = stats.kstest(df[i], 'norm').pvalue\n",
    "    if p_val<0.05:\n",
    "        sig_factors.append(i)\n",
    "for i in categorical_d:\n",
    "    crs = pd.crosstab(index=df['Drop_out'], columns=df[i])\n",
    "    stat, p, dof = stats.chi2_contingency(crs.values)[0:3]\n",
    "    if p<0.05:\n",
    "        sig_factors.append(i)"
   ],
   "metadata": {
    "collapsed": false
   }
  },
  {
   "cell_type": "code",
   "execution_count": 104,
   "outputs": [
    {
     "name": "stdout",
     "output_type": "stream",
     "text": [
      "Significant variables\n",
      "['Q_3', 'Q_4', 'Q_5', 'Q_18', 'Q_19', 'Q_8', 'Q_9', 'Q_10', 'Q_11', 'Q_12', 'Q_13', 'Q_16', 'Q_17', 'Q_21', 'Q_23', 'Q_24', 'Q_27', 'Q_29', 'Q_31', 'Q_34', 'Q_35_ii', 'Q_35_iii', 'Q_35_iv', 'Q_35_vi', 'Q_36', 'Q_37_iii', 'Q_37_iv', 'Q_37_vi', 'Q_37_vii', 'Q_37_xiii', 'Q_37_xiv', 'Q_37_xv']\n"
     ]
    }
   ],
   "source": [
    "print(\"Significant variables\")\n",
    "print(sig_factors)"
   ],
   "metadata": {
    "collapsed": false
   }
  },
  {
   "cell_type": "code",
   "execution_count": 105,
   "outputs": [
    {
     "data": {
      "text/plain": "           Q_3  Q_4     Q_5  Q_18  Q_19  Q_8  Q_9  Q_10  Q_11  Q_12  Q_13  \\\nSerial_no                                                                   \n1           27    8  150000     7     6    1    1     1     1     2     2   \n2           26   10  115000     8     7    1    3     3     1     2     2   \n3           26    6  120000     4     4    1    3     3     2     2     2   \n4           15    7  150000     3     2    2    3     3     2     2     3   \n5           20    5   90000     3     2    1    3     3     2     2     2   \n...        ...  ...     ...   ...   ...  ...  ...   ...   ...   ...   ...   \n339         21    5  200000     3     0    3    3     3     1     3     3   \n340         21    3  200000     1     0    3    3     3     2     3     3   \n341         21    4  210000     2     0    3    3     3     1     3     3   \n342         21    6  200000     4     0    3    3     3     2     3     3   \n343         21    6  210000     3     0    3    3     3     2     3     3   \n\n           Q_16  Q_17  Q_21  Q_23  Q_24  Q_27  Q_29  Q_31  Q_34  Q_35_ii  \\\nSerial_no                                                                  \n1             2     2     1     2     2     1     3     1     2        2   \n2             1     3     2     2     1     1     3     1     1        2   \n3             2     2     1     2     1     2     3     2     1        2   \n4             2     1     1     1     1     2     3     2     1        2   \n5             2     3     1     1     1     2     3     2     1        2   \n...         ...   ...   ...   ...   ...   ...   ...   ...   ...      ...   \n339           1     3     2     1     2     1     3     2     1        2   \n340           1     3     2     1     2     2     3     2     1        2   \n341           1     3     2     1     2     2     3     2     1        2   \n342           1     3     2     1     2     2     3     2     1        2   \n343           1     3     2     1     2     2     3     2     1        2   \n\n           Q_35_iii  Q_35_iv  Q_35_vi  Q_36  Q_37_iii  Q_37_iv  Q_37_vi  \\\nSerial_no                                                                 \n1                 2        2        2     1         1        5        1   \n2                 2        2        1     1         1        3        2   \n3                 2        2        1     1         2        2        1   \n4                 2        2        1     1         1        5        1   \n5                 2        2        1     1         1        1        1   \n...             ...      ...      ...   ...       ...      ...      ...   \n339               2        2        1     1         1        1        5   \n340               2        2        1     1         1        1        5   \n341               2        2        1     1         1        1        5   \n342               2        2        1     1         1        1        5   \n343               2        2        1     1         2        1        5   \n\n           Q_37_vii  Q_37_xiii  Q_37_xiv  Q_37_xv  Drop_out  \nSerial_no                                                    \n1                 1          1         1        5         1  \n2                 1          5         5        4         1  \n3                 2          5         5        3         1  \n4                 5          5         5        1         1  \n5                 1          5         5        3         1  \n...             ...        ...       ...      ...       ...  \n339               1          5         5        1         0  \n340               1          5         5        1         0  \n341               1          5         5        1         0  \n342               1          5         5        1         0  \n343               1          5         5        1         0  \n\n[210 rows x 33 columns]",
      "text/html": "<div>\n<style scoped>\n    .dataframe tbody tr th:only-of-type {\n        vertical-align: middle;\n    }\n\n    .dataframe tbody tr th {\n        vertical-align: top;\n    }\n\n    .dataframe thead th {\n        text-align: right;\n    }\n</style>\n<table border=\"1\" class=\"dataframe\">\n  <thead>\n    <tr style=\"text-align: right;\">\n      <th></th>\n      <th>Q_3</th>\n      <th>Q_4</th>\n      <th>Q_5</th>\n      <th>Q_18</th>\n      <th>Q_19</th>\n      <th>Q_8</th>\n      <th>Q_9</th>\n      <th>Q_10</th>\n      <th>Q_11</th>\n      <th>Q_12</th>\n      <th>Q_13</th>\n      <th>Q_16</th>\n      <th>Q_17</th>\n      <th>Q_21</th>\n      <th>Q_23</th>\n      <th>Q_24</th>\n      <th>Q_27</th>\n      <th>Q_29</th>\n      <th>Q_31</th>\n      <th>Q_34</th>\n      <th>Q_35_ii</th>\n      <th>Q_35_iii</th>\n      <th>Q_35_iv</th>\n      <th>Q_35_vi</th>\n      <th>Q_36</th>\n      <th>Q_37_iii</th>\n      <th>Q_37_iv</th>\n      <th>Q_37_vi</th>\n      <th>Q_37_vii</th>\n      <th>Q_37_xiii</th>\n      <th>Q_37_xiv</th>\n      <th>Q_37_xv</th>\n      <th>Drop_out</th>\n    </tr>\n    <tr>\n      <th>Serial_no</th>\n      <th></th>\n      <th></th>\n      <th></th>\n      <th></th>\n      <th></th>\n      <th></th>\n      <th></th>\n      <th></th>\n      <th></th>\n      <th></th>\n      <th></th>\n      <th></th>\n      <th></th>\n      <th></th>\n      <th></th>\n      <th></th>\n      <th></th>\n      <th></th>\n      <th></th>\n      <th></th>\n      <th></th>\n      <th></th>\n      <th></th>\n      <th></th>\n      <th></th>\n      <th></th>\n      <th></th>\n      <th></th>\n      <th></th>\n      <th></th>\n      <th></th>\n      <th></th>\n      <th></th>\n    </tr>\n  </thead>\n  <tbody>\n    <tr>\n      <th>1</th>\n      <td>27</td>\n      <td>8</td>\n      <td>150000</td>\n      <td>7</td>\n      <td>6</td>\n      <td>1</td>\n      <td>1</td>\n      <td>1</td>\n      <td>1</td>\n      <td>2</td>\n      <td>2</td>\n      <td>2</td>\n      <td>2</td>\n      <td>1</td>\n      <td>2</td>\n      <td>2</td>\n      <td>1</td>\n      <td>3</td>\n      <td>1</td>\n      <td>2</td>\n      <td>2</td>\n      <td>2</td>\n      <td>2</td>\n      <td>2</td>\n      <td>1</td>\n      <td>1</td>\n      <td>5</td>\n      <td>1</td>\n      <td>1</td>\n      <td>1</td>\n      <td>1</td>\n      <td>5</td>\n      <td>1</td>\n    </tr>\n    <tr>\n      <th>2</th>\n      <td>26</td>\n      <td>10</td>\n      <td>115000</td>\n      <td>8</td>\n      <td>7</td>\n      <td>1</td>\n      <td>3</td>\n      <td>3</td>\n      <td>1</td>\n      <td>2</td>\n      <td>2</td>\n      <td>1</td>\n      <td>3</td>\n      <td>2</td>\n      <td>2</td>\n      <td>1</td>\n      <td>1</td>\n      <td>3</td>\n      <td>1</td>\n      <td>1</td>\n      <td>2</td>\n      <td>2</td>\n      <td>2</td>\n      <td>1</td>\n      <td>1</td>\n      <td>1</td>\n      <td>3</td>\n      <td>2</td>\n      <td>1</td>\n      <td>5</td>\n      <td>5</td>\n      <td>4</td>\n      <td>1</td>\n    </tr>\n    <tr>\n      <th>3</th>\n      <td>26</td>\n      <td>6</td>\n      <td>120000</td>\n      <td>4</td>\n      <td>4</td>\n      <td>1</td>\n      <td>3</td>\n      <td>3</td>\n      <td>2</td>\n      <td>2</td>\n      <td>2</td>\n      <td>2</td>\n      <td>2</td>\n      <td>1</td>\n      <td>2</td>\n      <td>1</td>\n      <td>2</td>\n      <td>3</td>\n      <td>2</td>\n      <td>1</td>\n      <td>2</td>\n      <td>2</td>\n      <td>2</td>\n      <td>1</td>\n      <td>1</td>\n      <td>2</td>\n      <td>2</td>\n      <td>1</td>\n      <td>2</td>\n      <td>5</td>\n      <td>5</td>\n      <td>3</td>\n      <td>1</td>\n    </tr>\n    <tr>\n      <th>4</th>\n      <td>15</td>\n      <td>7</td>\n      <td>150000</td>\n      <td>3</td>\n      <td>2</td>\n      <td>2</td>\n      <td>3</td>\n      <td>3</td>\n      <td>2</td>\n      <td>2</td>\n      <td>3</td>\n      <td>2</td>\n      <td>1</td>\n      <td>1</td>\n      <td>1</td>\n      <td>1</td>\n      <td>2</td>\n      <td>3</td>\n      <td>2</td>\n      <td>1</td>\n      <td>2</td>\n      <td>2</td>\n      <td>2</td>\n      <td>1</td>\n      <td>1</td>\n      <td>1</td>\n      <td>5</td>\n      <td>1</td>\n      <td>5</td>\n      <td>5</td>\n      <td>5</td>\n      <td>1</td>\n      <td>1</td>\n    </tr>\n    <tr>\n      <th>5</th>\n      <td>20</td>\n      <td>5</td>\n      <td>90000</td>\n      <td>3</td>\n      <td>2</td>\n      <td>1</td>\n      <td>3</td>\n      <td>3</td>\n      <td>2</td>\n      <td>2</td>\n      <td>2</td>\n      <td>2</td>\n      <td>3</td>\n      <td>1</td>\n      <td>1</td>\n      <td>1</td>\n      <td>2</td>\n      <td>3</td>\n      <td>2</td>\n      <td>1</td>\n      <td>2</td>\n      <td>2</td>\n      <td>2</td>\n      <td>1</td>\n      <td>1</td>\n      <td>1</td>\n      <td>1</td>\n      <td>1</td>\n      <td>1</td>\n      <td>5</td>\n      <td>5</td>\n      <td>3</td>\n      <td>1</td>\n    </tr>\n    <tr>\n      <th>...</th>\n      <td>...</td>\n      <td>...</td>\n      <td>...</td>\n      <td>...</td>\n      <td>...</td>\n      <td>...</td>\n      <td>...</td>\n      <td>...</td>\n      <td>...</td>\n      <td>...</td>\n      <td>...</td>\n      <td>...</td>\n      <td>...</td>\n      <td>...</td>\n      <td>...</td>\n      <td>...</td>\n      <td>...</td>\n      <td>...</td>\n      <td>...</td>\n      <td>...</td>\n      <td>...</td>\n      <td>...</td>\n      <td>...</td>\n      <td>...</td>\n      <td>...</td>\n      <td>...</td>\n      <td>...</td>\n      <td>...</td>\n      <td>...</td>\n      <td>...</td>\n      <td>...</td>\n      <td>...</td>\n      <td>...</td>\n    </tr>\n    <tr>\n      <th>339</th>\n      <td>21</td>\n      <td>5</td>\n      <td>200000</td>\n      <td>3</td>\n      <td>0</td>\n      <td>3</td>\n      <td>3</td>\n      <td>3</td>\n      <td>1</td>\n      <td>3</td>\n      <td>3</td>\n      <td>1</td>\n      <td>3</td>\n      <td>2</td>\n      <td>1</td>\n      <td>2</td>\n      <td>1</td>\n      <td>3</td>\n      <td>2</td>\n      <td>1</td>\n      <td>2</td>\n      <td>2</td>\n      <td>2</td>\n      <td>1</td>\n      <td>1</td>\n      <td>1</td>\n      <td>1</td>\n      <td>5</td>\n      <td>1</td>\n      <td>5</td>\n      <td>5</td>\n      <td>1</td>\n      <td>0</td>\n    </tr>\n    <tr>\n      <th>340</th>\n      <td>21</td>\n      <td>3</td>\n      <td>200000</td>\n      <td>1</td>\n      <td>0</td>\n      <td>3</td>\n      <td>3</td>\n      <td>3</td>\n      <td>2</td>\n      <td>3</td>\n      <td>3</td>\n      <td>1</td>\n      <td>3</td>\n      <td>2</td>\n      <td>1</td>\n      <td>2</td>\n      <td>2</td>\n      <td>3</td>\n      <td>2</td>\n      <td>1</td>\n      <td>2</td>\n      <td>2</td>\n      <td>2</td>\n      <td>1</td>\n      <td>1</td>\n      <td>1</td>\n      <td>1</td>\n      <td>5</td>\n      <td>1</td>\n      <td>5</td>\n      <td>5</td>\n      <td>1</td>\n      <td>0</td>\n    </tr>\n    <tr>\n      <th>341</th>\n      <td>21</td>\n      <td>4</td>\n      <td>210000</td>\n      <td>2</td>\n      <td>0</td>\n      <td>3</td>\n      <td>3</td>\n      <td>3</td>\n      <td>1</td>\n      <td>3</td>\n      <td>3</td>\n      <td>1</td>\n      <td>3</td>\n      <td>2</td>\n      <td>1</td>\n      <td>2</td>\n      <td>2</td>\n      <td>3</td>\n      <td>2</td>\n      <td>1</td>\n      <td>2</td>\n      <td>2</td>\n      <td>2</td>\n      <td>1</td>\n      <td>1</td>\n      <td>1</td>\n      <td>1</td>\n      <td>5</td>\n      <td>1</td>\n      <td>5</td>\n      <td>5</td>\n      <td>1</td>\n      <td>0</td>\n    </tr>\n    <tr>\n      <th>342</th>\n      <td>21</td>\n      <td>6</td>\n      <td>200000</td>\n      <td>4</td>\n      <td>0</td>\n      <td>3</td>\n      <td>3</td>\n      <td>3</td>\n      <td>2</td>\n      <td>3</td>\n      <td>3</td>\n      <td>1</td>\n      <td>3</td>\n      <td>2</td>\n      <td>1</td>\n      <td>2</td>\n      <td>2</td>\n      <td>3</td>\n      <td>2</td>\n      <td>1</td>\n      <td>2</td>\n      <td>2</td>\n      <td>2</td>\n      <td>1</td>\n      <td>1</td>\n      <td>1</td>\n      <td>1</td>\n      <td>5</td>\n      <td>1</td>\n      <td>5</td>\n      <td>5</td>\n      <td>1</td>\n      <td>0</td>\n    </tr>\n    <tr>\n      <th>343</th>\n      <td>21</td>\n      <td>6</td>\n      <td>210000</td>\n      <td>3</td>\n      <td>0</td>\n      <td>3</td>\n      <td>3</td>\n      <td>3</td>\n      <td>2</td>\n      <td>3</td>\n      <td>3</td>\n      <td>1</td>\n      <td>3</td>\n      <td>2</td>\n      <td>1</td>\n      <td>2</td>\n      <td>2</td>\n      <td>3</td>\n      <td>2</td>\n      <td>1</td>\n      <td>2</td>\n      <td>2</td>\n      <td>2</td>\n      <td>1</td>\n      <td>1</td>\n      <td>2</td>\n      <td>1</td>\n      <td>5</td>\n      <td>1</td>\n      <td>5</td>\n      <td>5</td>\n      <td>1</td>\n      <td>0</td>\n    </tr>\n  </tbody>\n</table>\n<p>210 rows × 33 columns</p>\n</div>"
     },
     "execution_count": 105,
     "metadata": {},
     "output_type": "execute_result"
    }
   ],
   "source": [
    "sig_factors.append('Drop_out')\n",
    "data = df[sig_factors]\n",
    "data"
   ],
   "metadata": {
    "collapsed": false
   }
  },
  {
   "cell_type": "code",
   "execution_count": 106,
   "outputs": [
    {
     "data": {
      "text/plain": "1    144\n0     66\nName: Drop_out, dtype: int64"
     },
     "execution_count": 106,
     "metadata": {},
     "output_type": "execute_result"
    }
   ],
   "source": [
    "data['Drop_out'].value_counts()"
   ],
   "metadata": {
    "collapsed": false
   }
  },
  {
   "cell_type": "code",
   "execution_count": 107,
   "outputs": [
    {
     "name": "stdout",
     "output_type": "stream",
     "text": [
      "Drop_out ~  + Q_3 + Q_4 + Q_5 + Q_18 + Q_19 + Q_8 + Q_9 + Q_10 + Q_11 + Q_12 + Q_13 + Q_16 + Q_17 + Q_21 + Q_23 + Q_24 + Q_27 + Q_29 + Q_31 + Q_34 + Q_35_ii + Q_35_iii + Q_35_iv + Q_35_vi + Q_36 + Q_37_iii + Q_37_iv + Q_37_vi + Q_37_vii + Q_37_xiii + Q_37_xiv + Q_37_xv\n"
     ]
    }
   ],
   "source": [
    "fs = \"Drop_out ~ \"\n",
    "for l in sig_factors[:-1]:\n",
    "    fs = fs + ' + ' + l\n",
    "print(fs)"
   ],
   "metadata": {
    "collapsed": false
   }
  },
  {
   "cell_type": "code",
   "execution_count": 108,
   "outputs": [
    {
     "name": "stdout",
     "output_type": "stream",
     "text": [
      "Warning: Maximum number of iterations has been exceeded.\n",
      "         Current function value: 0.000066\n",
      "         Iterations: 35\n"
     ]
    }
   ],
   "source": [
    "formula_string = \"Drop_out ~ Q_3 + Q_4  + Q_18 + Q_19 + Q_8 + Q_9 + Q_10 + Q_11 + Q_12 + Q_13 + Q_16 + Q_17 + Q_21 + Q_23 + Q_24 + Q_27 + Q_29 + Q_31 + Q_34 + Q_35_ii + Q_35_iii + Q_35_iv + Q_35_vi + Q_36 + Q_37_iii + Q_37_iv + Q_37_vi + Q_37_vii + Q_37_xiii + Q_37_xiv + Q_37_xv\"\n",
    "model = logit(formula=formula_string, data=df).fit()"
   ],
   "metadata": {
    "collapsed": false
   }
  },
  {
   "cell_type": "code",
   "execution_count": 109,
   "outputs": [
    {
     "data": {
      "text/plain": "<class 'statsmodels.iolib.summary2.Summary'>\n\"\"\"\n                            Results: Logit\n======================================================================\nModel:                 Logit             Pseudo R-squared:  1.000     \nDependent Variable:    Drop_out          AIC:               64.0277   \nDate:                  2022-12-26 10:05  BIC:               171.1351  \nNo. Observations:      210               Log-Likelihood:    -0.013828 \nDf Model:              31                LL-Null:           -130.72   \nDf Residuals:          178               LLR p-value:       2.7940e-38\nConverged:             0.0000            Scale:             1.0000    \nNo. Iterations:        35.0000                                        \n----------------------------------------------------------------------\n           Coef.     Std.Err.     z    P>|z|     [0.025       0.975]  \n----------------------------------------------------------------------\nIntercept  25.9723 490000.1732  0.0001 1.0000 -960356.7196 960408.6642\nQ_3        -0.1029   2624.7703 -0.0000 1.0000   -5144.5581   5144.3522\nQ_4        -1.6815  12973.1001 -0.0001 0.9999  -25428.4905  25425.1276\nQ_18        0.9375  16207.9965  0.0001 1.0000  -31766.1520  31768.0270\nQ_19        1.7957  14134.2656  0.0001 0.9999  -27700.8558  27704.4473\nQ_8        -0.8256   9522.1078 -0.0001 0.9999  -18663.8140  18662.1627\nQ_9        -1.3649  24797.9739 -0.0001 1.0000  -48604.5006  48601.7708\nQ_10        9.0299  61668.0294  0.0001 0.9999 -120858.0868 120876.1465\nQ_11        0.9285  61873.8325  0.0000 1.0000 -121269.5549 121271.4118\nQ_12      -53.4309  81705.6925 -0.0007 0.9995 -160193.6456 160086.7837\nQ_13       -1.8218  10636.7709 -0.0002 0.9999  -20849.5097  20845.8661\nQ_16       -1.1344   4557.6685 -0.0002 0.9998   -8934.0006   8931.7318\nQ_17       -0.8587  19052.9077 -0.0000 1.0000  -37343.8716  37342.1543\nQ_21        4.8676  65725.8827  0.0001 0.9999 -128815.4953 128825.2306\nQ_23        6.7732  49163.0699  0.0001 0.9999  -96351.0732  96364.6195\nQ_24        2.7642  44625.6981  0.0001 1.0000  -87461.9969  87467.5252\nQ_27        2.9556  51001.6019  0.0001 1.0000  -99958.3474  99964.2585\nQ_29       -3.5941  43560.2885 -0.0001 0.9999  -85380.1908  85373.0025\nQ_31        0.6050  53618.9453  0.0000 1.0000 -105090.5966 105091.8067\nQ_34       -2.2408  25995.8709 -0.0001 0.9999  -50953.2115  50948.7299\nQ_35_ii     6.3587  67964.1707  0.0001 0.9999 -133200.9681 133213.6855\nQ_35_iii    7.7556 143606.3529  0.0001 1.0000 -281455.5242 281471.0353\nQ_35_iv    15.8763 110986.8327  0.0001 0.9999 -217514.3185 217546.0711\nQ_35_vi    -0.5145  42593.2263 -0.0000 1.0000  -83481.7040  83480.6750\nQ_36       -3.9183  54831.0702 -0.0001 0.9999 -107470.8410 107463.0045\nQ_37_iii   -0.1584  12769.8005 -0.0000 1.0000  -25028.5075  25028.1907\nQ_37_iv     4.3717  29330.5098  0.0001 0.9999  -57482.3711  57491.1146\nQ_37_vi     2.2839  24043.4845  0.0001 0.9999  -47122.0798  47126.6476\nQ_37_vii    4.2266  17319.9932  0.0002 0.9998  -33942.3363  33950.7896\nQ_37_xiii   0.9293  14147.3933  0.0001 0.9999  -27727.4521  27729.3106\nQ_37_xiv    1.7210  11189.4375  0.0002 0.9999  -21929.1736  21932.6156\nQ_37_xv     1.7691  11174.8127  0.0002 0.9999  -21900.4614  21903.9996\n======================================================================\n\n\"\"\"",
      "text/html": "<table class=\"simpletable\">\n<tr>\n        <td>Model:</td>              <td>Logit</td>      <td>Pseudo R-squared:</td>    <td>1.000</td>  \n</tr>\n<tr>\n  <td>Dependent Variable:</td>     <td>Drop_out</td>           <td>AIC:</td>          <td>64.0277</td> \n</tr>\n<tr>\n         <td>Date:</td>        <td>2022-12-26 10:05</td>       <td>BIC:</td>         <td>171.1351</td> \n</tr>\n<tr>\n   <td>No. Observations:</td>         <td>210</td>        <td>Log-Likelihood:</td>   <td>-0.013828</td>\n</tr>\n<tr>\n       <td>Df Model:</td>             <td>31</td>            <td>LL-Null:</td>        <td>-130.72</td> \n</tr>\n<tr>\n     <td>Df Residuals:</td>           <td>178</td>         <td>LLR p-value:</td>    <td>2.7940e-38</td>\n</tr>\n<tr>\n      <td>Converged:</td>           <td>0.0000</td>           <td>Scale:</td>         <td>1.0000</td>  \n</tr>\n<tr>\n    <td>No. Iterations:</td>        <td>35.0000</td>             <td></td>               <td></td>     \n</tr>\n</table>\n<table class=\"simpletable\">\n<tr>\n      <td></td>        <th>Coef.</th>   <th>Std.Err.</th>      <th>z</th>     <th>P>|z|</th>    <th>[0.025</th>      <th>0.975]</th>   \n</tr>\n<tr>\n  <th>Intercept</th>  <td>25.9723</td> <td>490000.1732</td> <td>0.0001</td>  <td>1.0000</td> <td>-960356.7196</td> <td>960408.6642</td>\n</tr>\n<tr>\n  <th>Q_3</th>        <td>-0.1029</td>  <td>2624.7703</td>  <td>-0.0000</td> <td>1.0000</td>  <td>-5144.5581</td>   <td>5144.3522</td> \n</tr>\n<tr>\n  <th>Q_4</th>        <td>-1.6815</td> <td>12973.1001</td>  <td>-0.0001</td> <td>0.9999</td>  <td>-25428.4905</td> <td>25425.1276</td> \n</tr>\n<tr>\n  <th>Q_18</th>       <td>0.9375</td>  <td>16207.9965</td>  <td>0.0001</td>  <td>1.0000</td>  <td>-31766.1520</td> <td>31768.0270</td> \n</tr>\n<tr>\n  <th>Q_19</th>       <td>1.7957</td>  <td>14134.2656</td>  <td>0.0001</td>  <td>0.9999</td>  <td>-27700.8558</td> <td>27704.4473</td> \n</tr>\n<tr>\n  <th>Q_8</th>        <td>-0.8256</td>  <td>9522.1078</td>  <td>-0.0001</td> <td>0.9999</td>  <td>-18663.8140</td> <td>18662.1627</td> \n</tr>\n<tr>\n  <th>Q_9</th>        <td>-1.3649</td> <td>24797.9739</td>  <td>-0.0001</td> <td>1.0000</td>  <td>-48604.5006</td> <td>48601.7708</td> \n</tr>\n<tr>\n  <th>Q_10</th>       <td>9.0299</td>  <td>61668.0294</td>  <td>0.0001</td>  <td>0.9999</td> <td>-120858.0868</td> <td>120876.1465</td>\n</tr>\n<tr>\n  <th>Q_11</th>       <td>0.9285</td>  <td>61873.8325</td>  <td>0.0000</td>  <td>1.0000</td> <td>-121269.5549</td> <td>121271.4118</td>\n</tr>\n<tr>\n  <th>Q_12</th>      <td>-53.4309</td> <td>81705.6925</td>  <td>-0.0007</td> <td>0.9995</td> <td>-160193.6456</td> <td>160086.7837</td>\n</tr>\n<tr>\n  <th>Q_13</th>       <td>-1.8218</td> <td>10636.7709</td>  <td>-0.0002</td> <td>0.9999</td>  <td>-20849.5097</td> <td>20845.8661</td> \n</tr>\n<tr>\n  <th>Q_16</th>       <td>-1.1344</td>  <td>4557.6685</td>  <td>-0.0002</td> <td>0.9998</td>  <td>-8934.0006</td>   <td>8931.7318</td> \n</tr>\n<tr>\n  <th>Q_17</th>       <td>-0.8587</td> <td>19052.9077</td>  <td>-0.0000</td> <td>1.0000</td>  <td>-37343.8716</td> <td>37342.1543</td> \n</tr>\n<tr>\n  <th>Q_21</th>       <td>4.8676</td>  <td>65725.8827</td>  <td>0.0001</td>  <td>0.9999</td> <td>-128815.4953</td> <td>128825.2306</td>\n</tr>\n<tr>\n  <th>Q_23</th>       <td>6.7732</td>  <td>49163.0699</td>  <td>0.0001</td>  <td>0.9999</td>  <td>-96351.0732</td> <td>96364.6195</td> \n</tr>\n<tr>\n  <th>Q_24</th>       <td>2.7642</td>  <td>44625.6981</td>  <td>0.0001</td>  <td>1.0000</td>  <td>-87461.9969</td> <td>87467.5252</td> \n</tr>\n<tr>\n  <th>Q_27</th>       <td>2.9556</td>  <td>51001.6019</td>  <td>0.0001</td>  <td>1.0000</td>  <td>-99958.3474</td> <td>99964.2585</td> \n</tr>\n<tr>\n  <th>Q_29</th>       <td>-3.5941</td> <td>43560.2885</td>  <td>-0.0001</td> <td>0.9999</td>  <td>-85380.1908</td> <td>85373.0025</td> \n</tr>\n<tr>\n  <th>Q_31</th>       <td>0.6050</td>  <td>53618.9453</td>  <td>0.0000</td>  <td>1.0000</td> <td>-105090.5966</td> <td>105091.8067</td>\n</tr>\n<tr>\n  <th>Q_34</th>       <td>-2.2408</td> <td>25995.8709</td>  <td>-0.0001</td> <td>0.9999</td>  <td>-50953.2115</td> <td>50948.7299</td> \n</tr>\n<tr>\n  <th>Q_35_ii</th>    <td>6.3587</td>  <td>67964.1707</td>  <td>0.0001</td>  <td>0.9999</td> <td>-133200.9681</td> <td>133213.6855</td>\n</tr>\n<tr>\n  <th>Q_35_iii</th>   <td>7.7556</td>  <td>143606.3529</td> <td>0.0001</td>  <td>1.0000</td> <td>-281455.5242</td> <td>281471.0353</td>\n</tr>\n<tr>\n  <th>Q_35_iv</th>    <td>15.8763</td> <td>110986.8327</td> <td>0.0001</td>  <td>0.9999</td> <td>-217514.3185</td> <td>217546.0711</td>\n</tr>\n<tr>\n  <th>Q_35_vi</th>    <td>-0.5145</td> <td>42593.2263</td>  <td>-0.0000</td> <td>1.0000</td>  <td>-83481.7040</td> <td>83480.6750</td> \n</tr>\n<tr>\n  <th>Q_36</th>       <td>-3.9183</td> <td>54831.0702</td>  <td>-0.0001</td> <td>0.9999</td> <td>-107470.8410</td> <td>107463.0045</td>\n</tr>\n<tr>\n  <th>Q_37_iii</th>   <td>-0.1584</td> <td>12769.8005</td>  <td>-0.0000</td> <td>1.0000</td>  <td>-25028.5075</td> <td>25028.1907</td> \n</tr>\n<tr>\n  <th>Q_37_iv</th>    <td>4.3717</td>  <td>29330.5098</td>  <td>0.0001</td>  <td>0.9999</td>  <td>-57482.3711</td> <td>57491.1146</td> \n</tr>\n<tr>\n  <th>Q_37_vi</th>    <td>2.2839</td>  <td>24043.4845</td>  <td>0.0001</td>  <td>0.9999</td>  <td>-47122.0798</td> <td>47126.6476</td> \n</tr>\n<tr>\n  <th>Q_37_vii</th>   <td>4.2266</td>  <td>17319.9932</td>  <td>0.0002</td>  <td>0.9998</td>  <td>-33942.3363</td> <td>33950.7896</td> \n</tr>\n<tr>\n  <th>Q_37_xiii</th>  <td>0.9293</td>  <td>14147.3933</td>  <td>0.0001</td>  <td>0.9999</td>  <td>-27727.4521</td> <td>27729.3106</td> \n</tr>\n<tr>\n  <th>Q_37_xiv</th>   <td>1.7210</td>  <td>11189.4375</td>  <td>0.0002</td>  <td>0.9999</td>  <td>-21929.1736</td> <td>21932.6156</td> \n</tr>\n<tr>\n  <th>Q_37_xv</th>    <td>1.7691</td>  <td>11174.8127</td>  <td>0.0002</td>  <td>0.9999</td>  <td>-21900.4614</td> <td>21903.9996</td> \n</tr>\n</table>"
     },
     "execution_count": 109,
     "metadata": {},
     "output_type": "execute_result"
    }
   ],
   "source": [
    "model.summary2()"
   ],
   "metadata": {
    "collapsed": false
   }
  },
  {
   "cell_type": "code",
   "execution_count": 110,
   "outputs": [],
   "source": [
    "# X = df.drop('Drop_out', axis=1)\n",
    "# y = df['Drop_out']"
   ],
   "metadata": {
    "collapsed": false
   }
  },
  {
   "cell_type": "code",
   "execution_count": 111,
   "metadata": {},
   "outputs": [],
   "source": [
    "# from sklearn.model_selection import train_test_split\n",
    "# X_train, X_test, y_train, y_test = train_test_split(X, y, test_size = 0.25, random_state = 0)"
   ]
  },
  {
   "cell_type": "code",
   "execution_count": 112,
   "metadata": {},
   "outputs": [],
   "source": [
    "# from sklearn.linear_model import LogisticRegression\n",
    "# classifier = LogisticRegression(random_state = 0)\n",
    "# classifier.fit(X_train, y_train)"
   ]
  }
 ],
 "metadata": {
  "kernelspec": {
   "display_name": "Python 3 (ipykernel)",
   "language": "python",
   "name": "python3"
  },
  "language_info": {
   "codemirror_mode": {
    "name": "ipython",
    "version": 3
   },
   "file_extension": ".py",
   "mimetype": "text/x-python",
   "name": "python",
   "nbconvert_exporter": "python",
   "pygments_lexer": "ipython3",
   "version": "3.10.8"
  },
  "vscode": {
   "interpreter": {
    "hash": "268d5e875d55cac6a24aaf2b4d832b7027fee3874e312e2bb47d53749095ef0f"
   }
  }
 },
 "nbformat": 4,
 "nbformat_minor": 4
}
