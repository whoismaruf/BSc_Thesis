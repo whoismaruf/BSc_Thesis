{
 "cells": [
  {
   "cell_type": "code",
   "execution_count": 81,
   "metadata": {
    "tags": []
   },
   "outputs": [],
   "source": [
    "import pandas as pd\n",
    "import matplotlib.pyplot as plt\n",
    "import seaborn as sns\n",
    "import plotly.express as px\n",
    "from scipy import stats\n",
    "from statsmodels.api import Logit\n",
    "from sklearn.preprocessing import LabelEncoder"
   ]
  },
  {
   "cell_type": "markdown",
   "metadata": {},
   "source": [
    "### Configuration\n",
    "Configure the notebooks to make a better look and feel which assists to do the analysis in easy ways."
   ]
  },
  {
   "cell_type": "code",
   "execution_count": 82,
   "metadata": {},
   "outputs": [],
   "source": [
    "import warnings\n",
    "warnings.filterwarnings('ignore')\n",
    "\n",
    "%matplotlib inline\n",
    "pd.set_option('display.max_columns', 100)"
   ]
  },
  {
   "cell_type": "code",
   "execution_count": 83,
   "metadata": {},
   "outputs": [
    {
     "data": {
      "text/html": [
       "<div>\n",
       "<style scoped>\n",
       "    .dataframe tbody tr th:only-of-type {\n",
       "        vertical-align: middle;\n",
       "    }\n",
       "\n",
       "    .dataframe tbody tr th {\n",
       "        vertical-align: top;\n",
       "    }\n",
       "\n",
       "    .dataframe thead th {\n",
       "        text-align: right;\n",
       "    }\n",
       "</style>\n",
       "<table border=\"1\" class=\"dataframe\">\n",
       "  <thead>\n",
       "    <tr style=\"text-align: right;\">\n",
       "      <th></th>\n",
       "      <th>Q_2</th>\n",
       "      <th>Q_3</th>\n",
       "      <th>Q_4</th>\n",
       "      <th>Q_5</th>\n",
       "      <th>Q_6</th>\n",
       "      <th>Q_7</th>\n",
       "      <th>Drop_out</th>\n",
       "      <th>Q_8</th>\n",
       "      <th>Q_9</th>\n",
       "      <th>Q_10</th>\n",
       "      <th>Q_11</th>\n",
       "      <th>Q_12</th>\n",
       "      <th>Q_13</th>\n",
       "      <th>Q_16</th>\n",
       "      <th>Q_17</th>\n",
       "      <th>Q_18</th>\n",
       "      <th>Q_19</th>\n",
       "      <th>Q_20</th>\n",
       "      <th>Q_21</th>\n",
       "      <th>Q_22</th>\n",
       "      <th>Q_23</th>\n",
       "      <th>Q_24</th>\n",
       "      <th>Q_25</th>\n",
       "      <th>Q_26</th>\n",
       "      <th>Q_27</th>\n",
       "      <th>Q_28</th>\n",
       "      <th>Q_29</th>\n",
       "      <th>Q_30</th>\n",
       "      <th>Q_31</th>\n",
       "      <th>Q_32</th>\n",
       "      <th>Q_33</th>\n",
       "      <th>Q_34</th>\n",
       "      <th>Q_35_i</th>\n",
       "      <th>Q_35_ii</th>\n",
       "      <th>Q_35_iii</th>\n",
       "      <th>Q_35_iv</th>\n",
       "      <th>Q_35_v</th>\n",
       "      <th>Q_35_vi</th>\n",
       "      <th>Q_36</th>\n",
       "      <th>Q_37_i</th>\n",
       "      <th>Q_37_ii</th>\n",
       "      <th>Q_37_iii</th>\n",
       "      <th>Q_37_iv</th>\n",
       "      <th>Q_37_v</th>\n",
       "      <th>Q_37_vi</th>\n",
       "      <th>Q_37_vii</th>\n",
       "      <th>Q_37_viii</th>\n",
       "      <th>Q_37_ix</th>\n",
       "      <th>Q_37_x</th>\n",
       "      <th>Q_37_xi</th>\n",
       "      <th>Q_37_xii</th>\n",
       "      <th>Q_37_xiii</th>\n",
       "      <th>Q_37_xiv</th>\n",
       "      <th>Q_37_xv</th>\n",
       "    </tr>\n",
       "    <tr>\n",
       "      <th>Serial_no</th>\n",
       "      <th></th>\n",
       "      <th></th>\n",
       "      <th></th>\n",
       "      <th></th>\n",
       "      <th></th>\n",
       "      <th></th>\n",
       "      <th></th>\n",
       "      <th></th>\n",
       "      <th></th>\n",
       "      <th></th>\n",
       "      <th></th>\n",
       "      <th></th>\n",
       "      <th></th>\n",
       "      <th></th>\n",
       "      <th></th>\n",
       "      <th></th>\n",
       "      <th></th>\n",
       "      <th></th>\n",
       "      <th></th>\n",
       "      <th></th>\n",
       "      <th></th>\n",
       "      <th></th>\n",
       "      <th></th>\n",
       "      <th></th>\n",
       "      <th></th>\n",
       "      <th></th>\n",
       "      <th></th>\n",
       "      <th></th>\n",
       "      <th></th>\n",
       "      <th></th>\n",
       "      <th></th>\n",
       "      <th></th>\n",
       "      <th></th>\n",
       "      <th></th>\n",
       "      <th></th>\n",
       "      <th></th>\n",
       "      <th></th>\n",
       "      <th></th>\n",
       "      <th></th>\n",
       "      <th></th>\n",
       "      <th></th>\n",
       "      <th></th>\n",
       "      <th></th>\n",
       "      <th></th>\n",
       "      <th></th>\n",
       "      <th></th>\n",
       "      <th></th>\n",
       "      <th></th>\n",
       "      <th></th>\n",
       "      <th></th>\n",
       "      <th></th>\n",
       "      <th></th>\n",
       "      <th></th>\n",
       "      <th></th>\n",
       "    </tr>\n",
       "  </thead>\n",
       "  <tbody>\n",
       "    <tr>\n",
       "      <th>1</th>\n",
       "      <td>Female</td>\n",
       "      <td>27</td>\n",
       "      <td>8</td>\n",
       "      <td>150000</td>\n",
       "      <td>Seniors</td>\n",
       "      <td>Dead</td>\n",
       "      <td>Yes</td>\n",
       "      <td>Primary</td>\n",
       "      <td>Less</td>\n",
       "      <td>Bad</td>\n",
       "      <td>Rural</td>\n",
       "      <td>No</td>\n",
       "      <td>Average</td>\n",
       "      <td>No</td>\n",
       "      <td>Neutral</td>\n",
       "      <td>7</td>\n",
       "      <td>6</td>\n",
       "      <td>No</td>\n",
       "      <td>Yes</td>\n",
       "      <td>No</td>\n",
       "      <td>No</td>\n",
       "      <td>No</td>\n",
       "      <td>No</td>\n",
       "      <td>Yes</td>\n",
       "      <td>Rural</td>\n",
       "      <td>Near</td>\n",
       "      <td>Good</td>\n",
       "      <td>No</td>\n",
       "      <td>Public</td>\n",
       "      <td>Not_much</td>\n",
       "      <td>Good</td>\n",
       "      <td>Neutral</td>\n",
       "      <td>Yes</td>\n",
       "      <td>No</td>\n",
       "      <td>No</td>\n",
       "      <td>No</td>\n",
       "      <td>No</td>\n",
       "      <td>No</td>\n",
       "      <td>Yes</td>\n",
       "      <td>Strongly_disagree</td>\n",
       "      <td>Strongly_disagree</td>\n",
       "      <td>Strongly_disagree</td>\n",
       "      <td>Strongly_agree</td>\n",
       "      <td>Strongly_disagree</td>\n",
       "      <td>Strongly_disagree</td>\n",
       "      <td>Strongly_disagree</td>\n",
       "      <td>Strongly_disagree</td>\n",
       "      <td>Strongly_disagree</td>\n",
       "      <td>Strongly_disagree</td>\n",
       "      <td>Strongly_disagree</td>\n",
       "      <td>Strongly_disagree</td>\n",
       "      <td>Strongly_disagree</td>\n",
       "      <td>Strongly_disagree</td>\n",
       "      <td>Strongly_agree</td>\n",
       "    </tr>\n",
       "    <tr>\n",
       "      <th>2</th>\n",
       "      <td>Female</td>\n",
       "      <td>26</td>\n",
       "      <td>10</td>\n",
       "      <td>115000</td>\n",
       "      <td>Dead</td>\n",
       "      <td>Dead</td>\n",
       "      <td>Yes</td>\n",
       "      <td>Primary</td>\n",
       "      <td>Very_much</td>\n",
       "      <td>Good</td>\n",
       "      <td>Rural</td>\n",
       "      <td>No</td>\n",
       "      <td>Average</td>\n",
       "      <td>Yes</td>\n",
       "      <td>Supportive</td>\n",
       "      <td>8</td>\n",
       "      <td>7</td>\n",
       "      <td>No</td>\n",
       "      <td>No</td>\n",
       "      <td>No</td>\n",
       "      <td>No</td>\n",
       "      <td>Yes</td>\n",
       "      <td>Yes</td>\n",
       "      <td>No</td>\n",
       "      <td>Rural</td>\n",
       "      <td>Far</td>\n",
       "      <td>Good</td>\n",
       "      <td>No</td>\n",
       "      <td>Public</td>\n",
       "      <td>Not_much</td>\n",
       "      <td>Good</td>\n",
       "      <td>Yes</td>\n",
       "      <td>No</td>\n",
       "      <td>No</td>\n",
       "      <td>No</td>\n",
       "      <td>No</td>\n",
       "      <td>No</td>\n",
       "      <td>Yes</td>\n",
       "      <td>Yes</td>\n",
       "      <td>Strongly_disagree</td>\n",
       "      <td>Strongly_disagree</td>\n",
       "      <td>Strongly_disagree</td>\n",
       "      <td>Neutral</td>\n",
       "      <td>Disagree</td>\n",
       "      <td>Disagree</td>\n",
       "      <td>Strongly_disagree</td>\n",
       "      <td>Strongly_disagree</td>\n",
       "      <td>Strongly_disagree</td>\n",
       "      <td>Disagree</td>\n",
       "      <td>Disagree</td>\n",
       "      <td>Disagree</td>\n",
       "      <td>Strongly_agree</td>\n",
       "      <td>Strongly_agree</td>\n",
       "      <td>Agree</td>\n",
       "    </tr>\n",
       "    <tr>\n",
       "      <th>3</th>\n",
       "      <td>Female</td>\n",
       "      <td>26</td>\n",
       "      <td>6</td>\n",
       "      <td>120000</td>\n",
       "      <td>Seniors</td>\n",
       "      <td>Adults</td>\n",
       "      <td>Yes</td>\n",
       "      <td>Primary</td>\n",
       "      <td>Very_much</td>\n",
       "      <td>Good</td>\n",
       "      <td>Urban</td>\n",
       "      <td>No</td>\n",
       "      <td>Average</td>\n",
       "      <td>No</td>\n",
       "      <td>Neutral</td>\n",
       "      <td>4</td>\n",
       "      <td>4</td>\n",
       "      <td>No</td>\n",
       "      <td>Yes</td>\n",
       "      <td>No</td>\n",
       "      <td>No</td>\n",
       "      <td>Yes</td>\n",
       "      <td>Yes</td>\n",
       "      <td>Yes</td>\n",
       "      <td>Urban</td>\n",
       "      <td>Near</td>\n",
       "      <td>Good</td>\n",
       "      <td>No</td>\n",
       "      <td>Private</td>\n",
       "      <td>Very_much</td>\n",
       "      <td>Good</td>\n",
       "      <td>Yes</td>\n",
       "      <td>No</td>\n",
       "      <td>No</td>\n",
       "      <td>No</td>\n",
       "      <td>No</td>\n",
       "      <td>No</td>\n",
       "      <td>Yes</td>\n",
       "      <td>Yes</td>\n",
       "      <td>Strongly_disagree</td>\n",
       "      <td>Strongly_disagree</td>\n",
       "      <td>Disagree</td>\n",
       "      <td>Disagree</td>\n",
       "      <td>Disagree</td>\n",
       "      <td>Strongly_disagree</td>\n",
       "      <td>Disagree</td>\n",
       "      <td>Strongly_disagree</td>\n",
       "      <td>Strongly_disagree</td>\n",
       "      <td>Strongly_disagree</td>\n",
       "      <td>Strongly_disagree</td>\n",
       "      <td>Strongly_disagree</td>\n",
       "      <td>Strongly_agree</td>\n",
       "      <td>Strongly_agree</td>\n",
       "      <td>Neutral</td>\n",
       "    </tr>\n",
       "  </tbody>\n",
       "</table>\n",
       "</div>"
      ],
      "text/plain": [
       "              Q_2  Q_3  Q_4     Q_5      Q_6     Q_7 Drop_out      Q_8  \\\n",
       "Serial_no                                                                \n",
       "1          Female   27    8  150000  Seniors    Dead      Yes  Primary   \n",
       "2          Female   26   10  115000     Dead    Dead      Yes  Primary   \n",
       "3          Female   26    6  120000  Seniors  Adults      Yes  Primary   \n",
       "\n",
       "                 Q_9  Q_10   Q_11 Q_12     Q_13 Q_16        Q_17  Q_18  Q_19  \\\n",
       "Serial_no                                                                      \n",
       "1               Less   Bad  Rural   No  Average   No     Neutral     7     6   \n",
       "2          Very_much  Good  Rural   No  Average  Yes  Supportive     8     7   \n",
       "3          Very_much  Good  Urban   No  Average   No     Neutral     4     4   \n",
       "\n",
       "          Q_20 Q_21 Q_22 Q_23 Q_24 Q_25 Q_26   Q_27  Q_28  Q_29 Q_30     Q_31  \\\n",
       "Serial_no                                                                       \n",
       "1           No  Yes   No   No   No   No  Yes  Rural  Near  Good   No   Public   \n",
       "2           No   No   No   No  Yes  Yes   No  Rural   Far  Good   No   Public   \n",
       "3           No  Yes   No   No  Yes  Yes  Yes  Urban  Near  Good   No  Private   \n",
       "\n",
       "                Q_32  Q_33     Q_34 Q_35_i Q_35_ii Q_35_iii Q_35_iv Q_35_v  \\\n",
       "Serial_no                                                                    \n",
       "1           Not_much  Good  Neutral    Yes      No       No      No     No   \n",
       "2           Not_much  Good      Yes     No      No       No      No     No   \n",
       "3          Very_much  Good      Yes     No      No       No      No     No   \n",
       "\n",
       "          Q_35_vi Q_36             Q_37_i            Q_37_ii  \\\n",
       "Serial_no                                                      \n",
       "1              No  Yes  Strongly_disagree  Strongly_disagree   \n",
       "2             Yes  Yes  Strongly_disagree  Strongly_disagree   \n",
       "3             Yes  Yes  Strongly_disagree  Strongly_disagree   \n",
       "\n",
       "                    Q_37_iii         Q_37_iv             Q_37_v  \\\n",
       "Serial_no                                                         \n",
       "1          Strongly_disagree  Strongly_agree  Strongly_disagree   \n",
       "2          Strongly_disagree         Neutral           Disagree   \n",
       "3                   Disagree        Disagree           Disagree   \n",
       "\n",
       "                     Q_37_vi           Q_37_vii          Q_37_viii  \\\n",
       "Serial_no                                                            \n",
       "1          Strongly_disagree  Strongly_disagree  Strongly_disagree   \n",
       "2                   Disagree  Strongly_disagree  Strongly_disagree   \n",
       "3          Strongly_disagree           Disagree  Strongly_disagree   \n",
       "\n",
       "                     Q_37_ix             Q_37_x            Q_37_xi  \\\n",
       "Serial_no                                                            \n",
       "1          Strongly_disagree  Strongly_disagree  Strongly_disagree   \n",
       "2          Strongly_disagree           Disagree           Disagree   \n",
       "3          Strongly_disagree  Strongly_disagree  Strongly_disagree   \n",
       "\n",
       "                    Q_37_xii          Q_37_xiii           Q_37_xiv  \\\n",
       "Serial_no                                                            \n",
       "1          Strongly_disagree  Strongly_disagree  Strongly_disagree   \n",
       "2                   Disagree     Strongly_agree     Strongly_agree   \n",
       "3          Strongly_disagree     Strongly_agree     Strongly_agree   \n",
       "\n",
       "                  Q_37_xv  \n",
       "Serial_no                  \n",
       "1          Strongly_agree  \n",
       "2                   Agree  \n",
       "3                 Neutral  "
      ]
     },
     "execution_count": 83,
     "metadata": {},
     "output_type": "execute_result"
    }
   ],
   "source": [
    "df = pd.read_excel(\"data.xlsx\", index_col='Serial_no')\n",
    "df = df.loc[:, df.columns != 'Q_1']\n",
    "df = df.drop(columns=['Q_14', 'Q_15'])\n",
    "df.head(3)"
   ]
  },
  {
   "cell_type": "code",
   "execution_count": 84,
   "metadata": {},
   "outputs": [
    {
     "data": {
      "text/html": [
       "<div>\n",
       "<style scoped>\n",
       "    .dataframe tbody tr th:only-of-type {\n",
       "        vertical-align: middle;\n",
       "    }\n",
       "\n",
       "    .dataframe tbody tr th {\n",
       "        vertical-align: top;\n",
       "    }\n",
       "\n",
       "    .dataframe thead th {\n",
       "        text-align: right;\n",
       "    }\n",
       "</style>\n",
       "<table border=\"1\" class=\"dataframe\">\n",
       "  <thead>\n",
       "    <tr style=\"text-align: right;\">\n",
       "      <th></th>\n",
       "      <th>Q_2</th>\n",
       "      <th>Q_7</th>\n",
       "      <th>Q_8</th>\n",
       "      <th>Q_9</th>\n",
       "      <th>Q_10</th>\n",
       "      <th>Q_11</th>\n",
       "      <th>Q_12</th>\n",
       "      <th>Q_13</th>\n",
       "      <th>Q_16</th>\n",
       "      <th>Q_17</th>\n",
       "      <th>Q_20</th>\n",
       "      <th>Q_21</th>\n",
       "      <th>Q_22</th>\n",
       "      <th>Q_23</th>\n",
       "      <th>Q_24</th>\n",
       "      <th>Q_25</th>\n",
       "      <th>Q_26</th>\n",
       "      <th>Q_27</th>\n",
       "      <th>Q_28</th>\n",
       "      <th>Q_29</th>\n",
       "      <th>Q_30</th>\n",
       "      <th>Q_31</th>\n",
       "      <th>Q_32</th>\n",
       "      <th>Q_33</th>\n",
       "      <th>Q_34</th>\n",
       "      <th>Q_35_i</th>\n",
       "      <th>Q_35_ii</th>\n",
       "      <th>Q_35_iii</th>\n",
       "      <th>Q_35_iv</th>\n",
       "      <th>Q_35_v</th>\n",
       "      <th>Q_35_vi</th>\n",
       "      <th>Q_36</th>\n",
       "      <th>Q_37_i</th>\n",
       "      <th>Q_37_ii</th>\n",
       "      <th>Q_37_iii</th>\n",
       "      <th>Q_37_iv</th>\n",
       "      <th>Q_37_v</th>\n",
       "      <th>Q_37_vi</th>\n",
       "      <th>Q_37_vii</th>\n",
       "      <th>Q_37_viii</th>\n",
       "      <th>Q_37_ix</th>\n",
       "      <th>Q_37_x</th>\n",
       "      <th>Q_37_xi</th>\n",
       "      <th>Q_37_xii</th>\n",
       "      <th>Q_37_xiii</th>\n",
       "      <th>Q_37_xiv</th>\n",
       "      <th>Q_37_xv</th>\n",
       "    </tr>\n",
       "    <tr>\n",
       "      <th>Serial_no</th>\n",
       "      <th></th>\n",
       "      <th></th>\n",
       "      <th></th>\n",
       "      <th></th>\n",
       "      <th></th>\n",
       "      <th></th>\n",
       "      <th></th>\n",
       "      <th></th>\n",
       "      <th></th>\n",
       "      <th></th>\n",
       "      <th></th>\n",
       "      <th></th>\n",
       "      <th></th>\n",
       "      <th></th>\n",
       "      <th></th>\n",
       "      <th></th>\n",
       "      <th></th>\n",
       "      <th></th>\n",
       "      <th></th>\n",
       "      <th></th>\n",
       "      <th></th>\n",
       "      <th></th>\n",
       "      <th></th>\n",
       "      <th></th>\n",
       "      <th></th>\n",
       "      <th></th>\n",
       "      <th></th>\n",
       "      <th></th>\n",
       "      <th></th>\n",
       "      <th></th>\n",
       "      <th></th>\n",
       "      <th></th>\n",
       "      <th></th>\n",
       "      <th></th>\n",
       "      <th></th>\n",
       "      <th></th>\n",
       "      <th></th>\n",
       "      <th></th>\n",
       "      <th></th>\n",
       "      <th></th>\n",
       "      <th></th>\n",
       "      <th></th>\n",
       "      <th></th>\n",
       "      <th></th>\n",
       "      <th></th>\n",
       "      <th></th>\n",
       "      <th></th>\n",
       "    </tr>\n",
       "  </thead>\n",
       "  <tbody>\n",
       "    <tr>\n",
       "      <th>1</th>\n",
       "      <td>Female</td>\n",
       "      <td>Dead</td>\n",
       "      <td>Primary</td>\n",
       "      <td>Less</td>\n",
       "      <td>Bad</td>\n",
       "      <td>Rural</td>\n",
       "      <td>No</td>\n",
       "      <td>Average</td>\n",
       "      <td>No</td>\n",
       "      <td>Neutral</td>\n",
       "      <td>No</td>\n",
       "      <td>Yes</td>\n",
       "      <td>No</td>\n",
       "      <td>No</td>\n",
       "      <td>No</td>\n",
       "      <td>No</td>\n",
       "      <td>Yes</td>\n",
       "      <td>Rural</td>\n",
       "      <td>Near</td>\n",
       "      <td>Good</td>\n",
       "      <td>No</td>\n",
       "      <td>Public</td>\n",
       "      <td>Not_much</td>\n",
       "      <td>Good</td>\n",
       "      <td>Neutral</td>\n",
       "      <td>Yes</td>\n",
       "      <td>No</td>\n",
       "      <td>No</td>\n",
       "      <td>No</td>\n",
       "      <td>No</td>\n",
       "      <td>No</td>\n",
       "      <td>Yes</td>\n",
       "      <td>Strongly_disagree</td>\n",
       "      <td>Strongly_disagree</td>\n",
       "      <td>Strongly_disagree</td>\n",
       "      <td>Strongly_agree</td>\n",
       "      <td>Strongly_disagree</td>\n",
       "      <td>Strongly_disagree</td>\n",
       "      <td>Strongly_disagree</td>\n",
       "      <td>Strongly_disagree</td>\n",
       "      <td>Strongly_disagree</td>\n",
       "      <td>Strongly_disagree</td>\n",
       "      <td>Strongly_disagree</td>\n",
       "      <td>Strongly_disagree</td>\n",
       "      <td>Strongly_disagree</td>\n",
       "      <td>Strongly_disagree</td>\n",
       "      <td>Strongly_agree</td>\n",
       "    </tr>\n",
       "    <tr>\n",
       "      <th>2</th>\n",
       "      <td>Female</td>\n",
       "      <td>Dead</td>\n",
       "      <td>Primary</td>\n",
       "      <td>Very_much</td>\n",
       "      <td>Good</td>\n",
       "      <td>Rural</td>\n",
       "      <td>No</td>\n",
       "      <td>Average</td>\n",
       "      <td>Yes</td>\n",
       "      <td>Supportive</td>\n",
       "      <td>No</td>\n",
       "      <td>No</td>\n",
       "      <td>No</td>\n",
       "      <td>No</td>\n",
       "      <td>Yes</td>\n",
       "      <td>Yes</td>\n",
       "      <td>No</td>\n",
       "      <td>Rural</td>\n",
       "      <td>Far</td>\n",
       "      <td>Good</td>\n",
       "      <td>No</td>\n",
       "      <td>Public</td>\n",
       "      <td>Not_much</td>\n",
       "      <td>Good</td>\n",
       "      <td>Yes</td>\n",
       "      <td>No</td>\n",
       "      <td>No</td>\n",
       "      <td>No</td>\n",
       "      <td>No</td>\n",
       "      <td>No</td>\n",
       "      <td>Yes</td>\n",
       "      <td>Yes</td>\n",
       "      <td>Strongly_disagree</td>\n",
       "      <td>Strongly_disagree</td>\n",
       "      <td>Strongly_disagree</td>\n",
       "      <td>Neutral</td>\n",
       "      <td>Disagree</td>\n",
       "      <td>Disagree</td>\n",
       "      <td>Strongly_disagree</td>\n",
       "      <td>Strongly_disagree</td>\n",
       "      <td>Strongly_disagree</td>\n",
       "      <td>Disagree</td>\n",
       "      <td>Disagree</td>\n",
       "      <td>Disagree</td>\n",
       "      <td>Strongly_agree</td>\n",
       "      <td>Strongly_agree</td>\n",
       "      <td>Agree</td>\n",
       "    </tr>\n",
       "  </tbody>\n",
       "</table>\n",
       "</div>"
      ],
      "text/plain": [
       "              Q_2   Q_7      Q_8        Q_9  Q_10   Q_11 Q_12     Q_13 Q_16  \\\n",
       "Serial_no                                                                     \n",
       "1          Female  Dead  Primary       Less   Bad  Rural   No  Average   No   \n",
       "2          Female  Dead  Primary  Very_much  Good  Rural   No  Average  Yes   \n",
       "\n",
       "                 Q_17 Q_20 Q_21 Q_22 Q_23 Q_24 Q_25 Q_26   Q_27  Q_28  Q_29  \\\n",
       "Serial_no                                                                     \n",
       "1             Neutral   No  Yes   No   No   No   No  Yes  Rural  Near  Good   \n",
       "2          Supportive   No   No   No   No  Yes  Yes   No  Rural   Far  Good   \n",
       "\n",
       "          Q_30    Q_31      Q_32  Q_33     Q_34 Q_35_i Q_35_ii Q_35_iii  \\\n",
       "Serial_no                                                                 \n",
       "1           No  Public  Not_much  Good  Neutral    Yes      No       No   \n",
       "2           No  Public  Not_much  Good      Yes     No      No       No   \n",
       "\n",
       "          Q_35_iv Q_35_v Q_35_vi Q_36             Q_37_i            Q_37_ii  \\\n",
       "Serial_no                                                                     \n",
       "1              No     No      No  Yes  Strongly_disagree  Strongly_disagree   \n",
       "2              No     No     Yes  Yes  Strongly_disagree  Strongly_disagree   \n",
       "\n",
       "                    Q_37_iii         Q_37_iv             Q_37_v  \\\n",
       "Serial_no                                                         \n",
       "1          Strongly_disagree  Strongly_agree  Strongly_disagree   \n",
       "2          Strongly_disagree         Neutral           Disagree   \n",
       "\n",
       "                     Q_37_vi           Q_37_vii          Q_37_viii  \\\n",
       "Serial_no                                                            \n",
       "1          Strongly_disagree  Strongly_disagree  Strongly_disagree   \n",
       "2                   Disagree  Strongly_disagree  Strongly_disagree   \n",
       "\n",
       "                     Q_37_ix             Q_37_x            Q_37_xi  \\\n",
       "Serial_no                                                            \n",
       "1          Strongly_disagree  Strongly_disagree  Strongly_disagree   \n",
       "2          Strongly_disagree           Disagree           Disagree   \n",
       "\n",
       "                    Q_37_xii          Q_37_xiii           Q_37_xiv  \\\n",
       "Serial_no                                                            \n",
       "1          Strongly_disagree  Strongly_disagree  Strongly_disagree   \n",
       "2                   Disagree     Strongly_agree     Strongly_agree   \n",
       "\n",
       "                  Q_37_xv  \n",
       "Serial_no                  \n",
       "1          Strongly_agree  \n",
       "2                   Agree  "
      ]
     },
     "execution_count": 84,
     "metadata": {},
     "output_type": "execute_result"
    }
   ],
   "source": [
    "categorical_d = ['Q_2', 'Q_7', 'Q_8', 'Q_9', 'Q_10', 'Q_11', 'Q_12', 'Q_13', 'Q_16', 'Q_17', 'Q_20', 'Q_21', 'Q_22', 'Q_23', 'Q_24', 'Q_25', 'Q_26', 'Q_27', 'Q_28', 'Q_29', 'Q_30', 'Q_31', 'Q_32', 'Q_33', 'Q_34', 'Q_35_i', 'Q_35_ii', 'Q_35_iii', 'Q_35_iv', 'Q_35_v', 'Q_35_vi', 'Q_36', 'Q_37_i', 'Q_37_ii', 'Q_37_iii', 'Q_37_iv', 'Q_37_v', 'Q_37_vi', 'Q_37_vii', 'Q_37_viii', 'Q_37_ix', 'Q_37_x', 'Q_37_xi', 'Q_37_xii', 'Q_37_xiii', 'Q_37_xiv', 'Q_37_xv']\n",
    "\n",
    "numerical_d = ['Q_3', 'Q_4', 'Q_5', 'Q_18', 'Q_19']\n",
    "\n",
    "df[categorical_d].head(2)"
   ]
  },
  {
   "cell_type": "code",
   "execution_count": 85,
   "metadata": {},
   "outputs": [
    {
     "name": "stdout",
     "output_type": "stream",
     "text": [
      "Drop_out  No  Yes\n",
      "Q_2              \n",
      "Female    29   46\n",
      "Male      37   98\n",
      "------------------\n",
      "Drop_out  No  Yes\n",
      "Q_7              \n",
      "Adults    66  141\n",
      "Dead       0    3\n",
      "------------------\n",
      "Drop_out          No  Yes\n",
      "Q_8                      \n",
      "Higher_Education  25    7\n",
      "Primary           24   93\n",
      "Secondary         17   44\n",
      "------------------\n",
      "Drop_out   No  Yes\n",
      "Q_9               \n",
      "Less        5   41\n",
      "Neutral     9   18\n",
      "Very_much  52   85\n",
      "------------------\n",
      "Drop_out  No  Yes\n",
      "Q_10             \n",
      "Average   11   73\n",
      "Bad        2   16\n",
      "Good      53   55\n",
      "------------------\n",
      "Drop_out  No  Yes\n",
      "Q_11             \n",
      "Rural     36  117\n",
      "Urban     30   27\n",
      "------------------\n",
      "Drop_out        No  Yes\n",
      "Q_12                   \n",
      "No               0   91\n",
      "Not_Applicable  66    0\n",
      "Yes              0   53\n",
      "------------------\n",
      "Drop_out  No  Yes\n",
      "Q_13             \n",
      "Average   32   79\n",
      "Bad        4   37\n",
      "Good      30   28\n",
      "------------------\n",
      "Drop_out  No  Yes\n",
      "Q_16             \n",
      "22         0    2\n",
      "No        27  113\n",
      "Yes       39   29\n",
      "------------------\n",
      "Drop_out    No  Yes\n",
      "Q_17               \n",
      "Neutral     20   65\n",
      "No_Support   1   31\n",
      "Supportive  45   48\n",
      "------------------\n",
      "Drop_out  No  Yes\n",
      "Q_20             \n",
      "No        66  137\n",
      "Yes        0    7\n",
      "------------------\n",
      "Drop_out  No  Yes\n",
      "Q_21             \n",
      "No        23   30\n",
      "Yes       43  114\n",
      "------------------\n",
      "Drop_out  No  Yes\n",
      "Q_22             \n",
      "No        49  101\n",
      "Yes       17   43\n",
      "------------------\n",
      "Drop_out  No  Yes\n",
      "Q_23             \n",
      "No        17   79\n",
      "Yes       49   65\n",
      "------------------\n",
      "Drop_out  No  Yes\n",
      "Q_24             \n",
      "No        50   73\n",
      "Yes       16   71\n",
      "------------------\n",
      "Drop_out  No  Yes\n",
      "Q_25             \n",
      "No        58  129\n",
      "Yes        8   15\n",
      "------------------\n",
      "Drop_out  No  Yes\n",
      "Q_26             \n",
      "No         5   26\n",
      "Yes       61  118\n",
      "------------------\n",
      "Drop_out  No  Yes\n",
      "Q_27             \n",
      "Rural     32  109\n",
      "Urban     34   35\n",
      "------------------\n",
      "Drop_out  No  Yes\n",
      "Q_28             \n",
      "Far       36   80\n",
      "Near      30   64\n",
      "------------------\n",
      "Drop_out  No  Yes\n",
      "Q_29             \n",
      "Bad        2   12\n",
      "Good      58   75\n",
      "Neutral    6   57\n",
      "------------------\n",
      "Drop_out  No  Yes\n",
      "Q_30             \n",
      "No        53  127\n",
      "Yes       13   17\n",
      "------------------\n",
      "Drop_out  No  Yes\n",
      "Q_31             \n",
      "Private   31   44\n",
      "Public    35  100\n",
      "------------------\n",
      "Drop_out   No  Yes\n",
      "Q_32              \n",
      "Average    31   73\n",
      "Not_much   23   54\n",
      "Very_much  12   17\n",
      "------------------\n",
      "Drop_out  No  Yes\n",
      "Q_33             \n",
      "Good      44   95\n",
      "Neutral   18   38\n",
      "Not_Good   4   11\n",
      "------------------\n",
      "Drop_out  No  Yes\n",
      "Q_34             \n",
      "Neutral    8   30\n",
      "No         7   30\n",
      "Yes       51   84\n",
      "------------------\n",
      "Drop_out  No  Yes\n",
      "Q_35_i           \n",
      "No        50  122\n",
      "Yes       16   22\n",
      "------------------\n",
      "Drop_out  No  Yes\n",
      "Q_35_ii          \n",
      "No        58   96\n",
      "Yes        8   48\n",
      "------------------\n",
      "Drop_out  No  Yes\n",
      "Q_35_iii         \n",
      "No        59  141\n",
      "Yes        7    3\n",
      "------------------\n",
      "Drop_out  No  Yes\n",
      "Q_35_iv          \n",
      "No        59  141\n",
      "Yes        7    3\n",
      "------------------\n",
      "Drop_out  No  Yes\n",
      "Q_35_v           \n",
      "No        59  121\n",
      "Yes        7   23\n",
      "------------------\n",
      "Drop_out  No  Yes\n",
      "Q_35_vi          \n",
      "No        26   89\n",
      "Yes       40   55\n",
      "------------------\n",
      "Drop_out  No  Yes\n",
      "Q_36             \n",
      "No        45  118\n",
      "Yes       21   26\n",
      "------------------\n",
      "Drop_out           No  Yes\n",
      "Q_37_i                    \n",
      "Agree              11   13\n",
      "Disagree           18   26\n",
      "Neutral             3   13\n",
      "Strongly_agree      0    3\n",
      "Strongly_disagree  34   89\n",
      "------------------\n",
      "Drop_out           No  Yes\n",
      "Q_37_ii                   \n",
      "Agree               1    3\n",
      "Disagree           19   39\n",
      "Neutral             9    8\n",
      "Strongly_disagree  37   94\n",
      "------------------\n",
      "Drop_out           No  Yes\n",
      "Q_37_iii                  \n",
      "Agree               4   42\n",
      "Disagree           28   31\n",
      "Neutral             9   18\n",
      "Strongly_agree      0   15\n",
      "Strongly_disagree  25   38\n",
      "------------------\n",
      "Drop_out           No  Yes\n",
      "Q_37_iv                   \n",
      "Agree               2   25\n",
      "Disagree           35   48\n",
      "Neutral            11   51\n",
      "Strongly_agree      3    6\n",
      "Strongly_disagree  15   14\n",
      "------------------\n",
      "Drop_out           No  Yes\n",
      "Q_37_v                    \n",
      "Agree               2    6\n",
      "Disagree           34   62\n",
      "Neutral             5   14\n",
      "Strongly_agree      3    0\n",
      "Strongly_disagree  22   62\n",
      "------------------\n",
      "Drop_out           No  Yes\n",
      "Q_37_vi                   \n",
      "Agree               5   22\n",
      "Disagree           22   34\n",
      "Neutral             8   39\n",
      "Strongly_agree      7   23\n",
      "Strongly_disagree  24   26\n",
      "------------------\n",
      "Drop_out           No  Yes\n",
      "Q_37_vii                  \n",
      "Agree               1   31\n",
      "Disagree           39   53\n",
      "Neutral            10   19\n",
      "Strongly_agree      1    6\n",
      "Strongly_disagree  15   35\n",
      "------------------\n",
      "Drop_out           No  Yes\n",
      "Q_37_viii                 \n",
      "Agree               2   10\n",
      "Disagree           23   34\n",
      "Neutral            14   18\n",
      "Strongly_agree      0    2\n",
      "Strongly_disagree  27   80\n",
      "------------------\n",
      "Drop_out           No  Yes\n",
      "Q_37_ix                   \n",
      "Agree               0    4\n",
      "Disagree           28   39\n",
      "Neutral             7   21\n",
      "Strongly_disagree  31   80\n",
      "------------------\n",
      "Drop_out           No  Yes\n",
      "Q_37_x                    \n",
      "Agree               7    4\n",
      "Disagree           28   64\n",
      "Neutral             7   19\n",
      "Strongly_agree      2    2\n",
      "Strongly_disagree  22   55\n",
      "------------------\n",
      "Drop_out           No  Yes\n",
      "Q_37_xi                   \n",
      "Agree               2   12\n",
      "Disagree           28   44\n",
      "Neutral             7   24\n",
      "Strongly_agree      8   14\n",
      "Strongly_disagree  21   50\n",
      "------------------\n",
      "Drop_out           No  Yes\n",
      "Q_37_xii                  \n",
      "Agree               1   10\n",
      "Disagree           11   35\n",
      "Neutral             8   21\n",
      "Strongly_disagree  46   78\n",
      "------------------\n",
      "Drop_out           No  Yes\n",
      "Q_37_xiii                 \n",
      "Agree               5   20\n",
      "Disagree           12   13\n",
      "Neutral            11   23\n",
      "Strongly_agree     20   78\n",
      "Strongly_disagree  18   10\n",
      "------------------\n",
      "Drop_out           No  Yes\n",
      "Q_37_xiv                  \n",
      "Agree               3   27\n",
      "Disagree           14   11\n",
      "Neutral             9   26\n",
      "Strongly_agree     20   74\n",
      "Strongly_disagree  20    6\n",
      "------------------\n",
      "Drop_out           No  Yes\n",
      "Q_37_xv                   \n",
      "Agree              27   35\n",
      "Disagree           16   44\n",
      "Neutral            11   30\n",
      "Strongly_agree      2   21\n",
      "Strongly_disagree  10   14\n",
      "------------------\n"
     ]
    }
   ],
   "source": [
    "for i in categorical_d:\n",
    "    print(pd.crosstab(index=df[i], columns=df['Drop_out']))\n",
    "    print(\"------------------\")"
   ]
  },
  {
   "cell_type": "code",
   "execution_count": 86,
   "metadata": {},
   "outputs": [],
   "source": [
    "# fig = plt.figure(figsize=(32, 90))\n",
    "# k = 1\n",
    "# for i in categorical_d:\n",
    "#     plt.subplot(13, 4, k)\n",
    "#     crs = pd.crosstab(index=df['Drop_out'], columns=df[i])\n",
    "#     # sns.barplot(crs)\n",
    "#     sns.heatmap(crs)\n",
    "#     k += 1\n",
    "\n",
    "# plt.show()"
   ]
  },
  {
   "cell_type": "code",
   "execution_count": 87,
   "metadata": {},
   "outputs": [
    {
     "data": {
      "image/png": "[encoded data removed]",
      "text/plain": [
       "<Figure size 1500x800 with 5 Axes>"
      ]
     },
     "metadata": {},
     "output_type": "display_data"
    }
   ],
   "source": [
    "fig = plt.figure(figsize=(15, 8))\n",
    "k = 1\n",
    "for i in numerical_d:\n",
    "    plt.subplot(2, 3, k)\n",
    "    # sns.distplot(df[i], hist=False, kde=True)\n",
    "    pc = stats.probplot(df[i],dist='norm',plot=plt)\n",
    "    plt.xlabel(i)\n",
    "    k += 1\n",
    "\n",
    "plt.tight_layout()\n",
    "plt.show()"
   ]
  },
  {
   "cell_type": "code",
   "execution_count": 88,
   "metadata": {},
   "outputs": [
    {
     "data": {
      "image/png": "[encoded data removed]",
      "text/plain": [
       "<Figure size 1800x600 with 2 Axes>"
      ]
     },
     "metadata": {},
     "output_type": "display_data"
    }
   ],
   "source": [
    "FQ_5, lam = stats.boxcox(df['Q_5'])\n",
    "fig , g = plt.subplots(1,2, figsize=(18,6))\n",
    "# Histogram\n",
    "g1 = sns.distplot(FQ_5, ax=g[0]);\n",
    "# QQPlot\n",
    "g2 = stats.probplot(FQ_5, dist='norm', plot=plt);"
   ]
  },
  {
   "cell_type": "code",
   "execution_count": 89,
   "metadata": {},
   "outputs": [
    {
     "data": {
      "image/png": "[encoded data removed]",
      "text/plain": [
       "<Figure size 1500x800 with 5 Axes>"
      ]
     },
     "metadata": {},
     "output_type": "display_data"
    }
   ],
   "source": [
    "df['Q_5'] = FQ_5\n",
    "\n",
    "fig = plt.figure(figsize=(15, 8))\n",
    "k = 1\n",
    "for i in numerical_d:\n",
    "    plt.subplot(2, 3, k)\n",
    "    sns.distplot(df[i], hist=False, kde=True)\n",
    "    # pc = stats.probplot(df[i],dist='norm',plot=plt)\n",
    "    plt.xlabel(i)\n",
    "    k += 1\n",
    "\n",
    "plt.tight_layout()\n",
    "plt.show()"
   ]
  },
  {
   "cell_type": "code",
   "execution_count": 90,
   "metadata": {},
   "outputs": [
    {
     "data": {
      "text/html": [
       "<div>\n",
       "<style scoped>\n",
       "    .dataframe tbody tr th:only-of-type {\n",
       "        vertical-align: middle;\n",
       "    }\n",
       "\n",
       "    .dataframe tbody tr th {\n",
       "        vertical-align: top;\n",
       "    }\n",
       "\n",
       "    .dataframe thead th {\n",
       "        text-align: right;\n",
       "    }\n",
       "</style>\n",
       "<table border=\"1\" class=\"dataframe\">\n",
       "  <thead>\n",
       "    <tr style=\"text-align: right;\">\n",
       "      <th></th>\n",
       "      <th>Q_2</th>\n",
       "      <th>Q_3</th>\n",
       "      <th>Q_4</th>\n",
       "      <th>Q_5</th>\n",
       "      <th>Q_6</th>\n",
       "      <th>Q_7</th>\n",
       "      <th>Q_8</th>\n",
       "      <th>Q_9</th>\n",
       "      <th>Q_10</th>\n",
       "      <th>Q_11</th>\n",
       "      <th>Q_12</th>\n",
       "      <th>Q_13</th>\n",
       "      <th>Q_16</th>\n",
       "      <th>Q_17</th>\n",
       "      <th>Q_18</th>\n",
       "      <th>Q_19</th>\n",
       "      <th>Q_20</th>\n",
       "      <th>Q_21</th>\n",
       "      <th>Q_22</th>\n",
       "      <th>Q_23</th>\n",
       "      <th>Q_24</th>\n",
       "      <th>Q_25</th>\n",
       "      <th>Q_26</th>\n",
       "      <th>Q_27</th>\n",
       "      <th>Q_28</th>\n",
       "      <th>Q_29</th>\n",
       "      <th>Q_30</th>\n",
       "      <th>Q_31</th>\n",
       "      <th>Q_32</th>\n",
       "      <th>Q_33</th>\n",
       "      <th>Q_34</th>\n",
       "      <th>Q_35_i</th>\n",
       "      <th>Q_35_ii</th>\n",
       "      <th>Q_35_iii</th>\n",
       "      <th>Q_35_iv</th>\n",
       "      <th>Q_35_v</th>\n",
       "      <th>Q_35_vi</th>\n",
       "      <th>Q_36</th>\n",
       "      <th>Q_37_i</th>\n",
       "      <th>Q_37_ii</th>\n",
       "      <th>Q_37_iii</th>\n",
       "      <th>Q_37_iv</th>\n",
       "      <th>Q_37_v</th>\n",
       "      <th>Q_37_vi</th>\n",
       "      <th>Q_37_vii</th>\n",
       "      <th>Q_37_viii</th>\n",
       "      <th>Q_37_ix</th>\n",
       "      <th>Q_37_x</th>\n",
       "      <th>Q_37_xi</th>\n",
       "      <th>Q_37_xii</th>\n",
       "      <th>Q_37_xiii</th>\n",
       "      <th>Q_37_xiv</th>\n",
       "      <th>Q_37_xv</th>\n",
       "      <th>Drop_out_Yes</th>\n",
       "    </tr>\n",
       "    <tr>\n",
       "      <th>Serial_no</th>\n",
       "      <th></th>\n",
       "      <th></th>\n",
       "      <th></th>\n",
       "      <th></th>\n",
       "      <th></th>\n",
       "      <th></th>\n",
       "      <th></th>\n",
       "      <th></th>\n",
       "      <th></th>\n",
       "      <th></th>\n",
       "      <th></th>\n",
       "      <th></th>\n",
       "      <th></th>\n",
       "      <th></th>\n",
       "      <th></th>\n",
       "      <th></th>\n",
       "      <th></th>\n",
       "      <th></th>\n",
       "      <th></th>\n",
       "      <th></th>\n",
       "      <th></th>\n",
       "      <th></th>\n",
       "      <th></th>\n",
       "      <th></th>\n",
       "      <th></th>\n",
       "      <th></th>\n",
       "      <th></th>\n",
       "      <th></th>\n",
       "      <th></th>\n",
       "      <th></th>\n",
       "      <th></th>\n",
       "      <th></th>\n",
       "      <th></th>\n",
       "      <th></th>\n",
       "      <th></th>\n",
       "      <th></th>\n",
       "      <th></th>\n",
       "      <th></th>\n",
       "      <th></th>\n",
       "      <th></th>\n",
       "      <th></th>\n",
       "      <th></th>\n",
       "      <th></th>\n",
       "      <th></th>\n",
       "      <th></th>\n",
       "      <th></th>\n",
       "      <th></th>\n",
       "      <th></th>\n",
       "      <th></th>\n",
       "      <th></th>\n",
       "      <th></th>\n",
       "      <th></th>\n",
       "      <th></th>\n",
       "      <th></th>\n",
       "    </tr>\n",
       "  </thead>\n",
       "  <tbody>\n",
       "    <tr>\n",
       "      <th>1</th>\n",
       "      <td>Female</td>\n",
       "      <td>27</td>\n",
       "      <td>8</td>\n",
       "      <td>0.951913</td>\n",
       "      <td>Seniors</td>\n",
       "      <td>Dead</td>\n",
       "      <td>Primary</td>\n",
       "      <td>Less</td>\n",
       "      <td>Bad</td>\n",
       "      <td>Rural</td>\n",
       "      <td>No</td>\n",
       "      <td>Average</td>\n",
       "      <td>No</td>\n",
       "      <td>Neutral</td>\n",
       "      <td>7</td>\n",
       "      <td>6</td>\n",
       "      <td>No</td>\n",
       "      <td>Yes</td>\n",
       "      <td>No</td>\n",
       "      <td>No</td>\n",
       "      <td>No</td>\n",
       "      <td>No</td>\n",
       "      <td>Yes</td>\n",
       "      <td>Rural</td>\n",
       "      <td>Near</td>\n",
       "      <td>Good</td>\n",
       "      <td>No</td>\n",
       "      <td>Public</td>\n",
       "      <td>Not_much</td>\n",
       "      <td>Good</td>\n",
       "      <td>Neutral</td>\n",
       "      <td>Yes</td>\n",
       "      <td>No</td>\n",
       "      <td>No</td>\n",
       "      <td>No</td>\n",
       "      <td>No</td>\n",
       "      <td>No</td>\n",
       "      <td>Yes</td>\n",
       "      <td>Strongly_disagree</td>\n",
       "      <td>Strongly_disagree</td>\n",
       "      <td>Strongly_disagree</td>\n",
       "      <td>Strongly_agree</td>\n",
       "      <td>Strongly_disagree</td>\n",
       "      <td>Strongly_disagree</td>\n",
       "      <td>Strongly_disagree</td>\n",
       "      <td>Strongly_disagree</td>\n",
       "      <td>Strongly_disagree</td>\n",
       "      <td>Strongly_disagree</td>\n",
       "      <td>Strongly_disagree</td>\n",
       "      <td>Strongly_disagree</td>\n",
       "      <td>Strongly_disagree</td>\n",
       "      <td>Strongly_disagree</td>\n",
       "      <td>Strongly_agree</td>\n",
       "      <td>1</td>\n",
       "    </tr>\n",
       "    <tr>\n",
       "      <th>2</th>\n",
       "      <td>Female</td>\n",
       "      <td>26</td>\n",
       "      <td>10</td>\n",
       "      <td>0.951912</td>\n",
       "      <td>Dead</td>\n",
       "      <td>Dead</td>\n",
       "      <td>Primary</td>\n",
       "      <td>Very_much</td>\n",
       "      <td>Good</td>\n",
       "      <td>Rural</td>\n",
       "      <td>No</td>\n",
       "      <td>Average</td>\n",
       "      <td>Yes</td>\n",
       "      <td>Supportive</td>\n",
       "      <td>8</td>\n",
       "      <td>7</td>\n",
       "      <td>No</td>\n",
       "      <td>No</td>\n",
       "      <td>No</td>\n",
       "      <td>No</td>\n",
       "      <td>Yes</td>\n",
       "      <td>Yes</td>\n",
       "      <td>No</td>\n",
       "      <td>Rural</td>\n",
       "      <td>Far</td>\n",
       "      <td>Good</td>\n",
       "      <td>No</td>\n",
       "      <td>Public</td>\n",
       "      <td>Not_much</td>\n",
       "      <td>Good</td>\n",
       "      <td>Yes</td>\n",
       "      <td>No</td>\n",
       "      <td>No</td>\n",
       "      <td>No</td>\n",
       "      <td>No</td>\n",
       "      <td>No</td>\n",
       "      <td>Yes</td>\n",
       "      <td>Yes</td>\n",
       "      <td>Strongly_disagree</td>\n",
       "      <td>Strongly_disagree</td>\n",
       "      <td>Strongly_disagree</td>\n",
       "      <td>Neutral</td>\n",
       "      <td>Disagree</td>\n",
       "      <td>Disagree</td>\n",
       "      <td>Strongly_disagree</td>\n",
       "      <td>Strongly_disagree</td>\n",
       "      <td>Strongly_disagree</td>\n",
       "      <td>Disagree</td>\n",
       "      <td>Disagree</td>\n",
       "      <td>Disagree</td>\n",
       "      <td>Strongly_agree</td>\n",
       "      <td>Strongly_agree</td>\n",
       "      <td>Agree</td>\n",
       "      <td>1</td>\n",
       "    </tr>\n",
       "    <tr>\n",
       "      <th>3</th>\n",
       "      <td>Female</td>\n",
       "      <td>26</td>\n",
       "      <td>6</td>\n",
       "      <td>0.951912</td>\n",
       "      <td>Seniors</td>\n",
       "      <td>Adults</td>\n",
       "      <td>Primary</td>\n",
       "      <td>Very_much</td>\n",
       "      <td>Good</td>\n",
       "      <td>Urban</td>\n",
       "      <td>No</td>\n",
       "      <td>Average</td>\n",
       "      <td>No</td>\n",
       "      <td>Neutral</td>\n",
       "      <td>4</td>\n",
       "      <td>4</td>\n",
       "      <td>No</td>\n",
       "      <td>Yes</td>\n",
       "      <td>No</td>\n",
       "      <td>No</td>\n",
       "      <td>Yes</td>\n",
       "      <td>Yes</td>\n",
       "      <td>Yes</td>\n",
       "      <td>Urban</td>\n",
       "      <td>Near</td>\n",
       "      <td>Good</td>\n",
       "      <td>No</td>\n",
       "      <td>Private</td>\n",
       "      <td>Very_much</td>\n",
       "      <td>Good</td>\n",
       "      <td>Yes</td>\n",
       "      <td>No</td>\n",
       "      <td>No</td>\n",
       "      <td>No</td>\n",
       "      <td>No</td>\n",
       "      <td>No</td>\n",
       "      <td>Yes</td>\n",
       "      <td>Yes</td>\n",
       "      <td>Strongly_disagree</td>\n",
       "      <td>Strongly_disagree</td>\n",
       "      <td>Disagree</td>\n",
       "      <td>Disagree</td>\n",
       "      <td>Disagree</td>\n",
       "      <td>Strongly_disagree</td>\n",
       "      <td>Disagree</td>\n",
       "      <td>Strongly_disagree</td>\n",
       "      <td>Strongly_disagree</td>\n",
       "      <td>Strongly_disagree</td>\n",
       "      <td>Strongly_disagree</td>\n",
       "      <td>Strongly_disagree</td>\n",
       "      <td>Strongly_agree</td>\n",
       "      <td>Strongly_agree</td>\n",
       "      <td>Neutral</td>\n",
       "      <td>1</td>\n",
       "    </tr>\n",
       "  </tbody>\n",
       "</table>\n",
       "</div>"
      ],
      "text/plain": [
       "              Q_2  Q_3  Q_4       Q_5      Q_6     Q_7      Q_8        Q_9  \\\n",
       "Serial_no                                                                    \n",
       "1          Female   27    8  0.951913  Seniors    Dead  Primary       Less   \n",
       "2          Female   26   10  0.951912     Dead    Dead  Primary  Very_much   \n",
       "3          Female   26    6  0.951912  Seniors  Adults  Primary  Very_much   \n",
       "\n",
       "           Q_10   Q_11 Q_12     Q_13 Q_16        Q_17  Q_18  Q_19 Q_20 Q_21  \\\n",
       "Serial_no                                                                     \n",
       "1           Bad  Rural   No  Average   No     Neutral     7     6   No  Yes   \n",
       "2          Good  Rural   No  Average  Yes  Supportive     8     7   No   No   \n",
       "3          Good  Urban   No  Average   No     Neutral     4     4   No  Yes   \n",
       "\n",
       "          Q_22 Q_23 Q_24 Q_25 Q_26   Q_27  Q_28  Q_29 Q_30     Q_31  \\\n",
       "Serial_no                                                             \n",
       "1           No   No   No   No  Yes  Rural  Near  Good   No   Public   \n",
       "2           No   No  Yes  Yes   No  Rural   Far  Good   No   Public   \n",
       "3           No   No  Yes  Yes  Yes  Urban  Near  Good   No  Private   \n",
       "\n",
       "                Q_32  Q_33     Q_34 Q_35_i Q_35_ii Q_35_iii Q_35_iv Q_35_v  \\\n",
       "Serial_no                                                                    \n",
       "1           Not_much  Good  Neutral    Yes      No       No      No     No   \n",
       "2           Not_much  Good      Yes     No      No       No      No     No   \n",
       "3          Very_much  Good      Yes     No      No       No      No     No   \n",
       "\n",
       "          Q_35_vi Q_36             Q_37_i            Q_37_ii  \\\n",
       "Serial_no                                                      \n",
       "1              No  Yes  Strongly_disagree  Strongly_disagree   \n",
       "2             Yes  Yes  Strongly_disagree  Strongly_disagree   \n",
       "3             Yes  Yes  Strongly_disagree  Strongly_disagree   \n",
       "\n",
       "                    Q_37_iii         Q_37_iv             Q_37_v  \\\n",
       "Serial_no                                                         \n",
       "1          Strongly_disagree  Strongly_agree  Strongly_disagree   \n",
       "2          Strongly_disagree         Neutral           Disagree   \n",
       "3                   Disagree        Disagree           Disagree   \n",
       "\n",
       "                     Q_37_vi           Q_37_vii          Q_37_viii  \\\n",
       "Serial_no                                                            \n",
       "1          Strongly_disagree  Strongly_disagree  Strongly_disagree   \n",
       "2                   Disagree  Strongly_disagree  Strongly_disagree   \n",
       "3          Strongly_disagree           Disagree  Strongly_disagree   \n",
       "\n",
       "                     Q_37_ix             Q_37_x            Q_37_xi  \\\n",
       "Serial_no                                                            \n",
       "1          Strongly_disagree  Strongly_disagree  Strongly_disagree   \n",
       "2          Strongly_disagree           Disagree           Disagree   \n",
       "3          Strongly_disagree  Strongly_disagree  Strongly_disagree   \n",
       "\n",
       "                    Q_37_xii          Q_37_xiii           Q_37_xiv  \\\n",
       "Serial_no                                                            \n",
       "1          Strongly_disagree  Strongly_disagree  Strongly_disagree   \n",
       "2                   Disagree     Strongly_agree     Strongly_agree   \n",
       "3          Strongly_disagree     Strongly_agree     Strongly_agree   \n",
       "\n",
       "                  Q_37_xv  Drop_out_Yes  \n",
       "Serial_no                                \n",
       "1          Strongly_agree             1  \n",
       "2                   Agree             1  \n",
       "3                 Neutral             1  "
      ]
     },
     "execution_count": 90,
     "metadata": {},
     "output_type": "execute_result"
    }
   ],
   "source": [
    "df = pd.get_dummies(df, columns=['Drop_out'], drop_first=True)\n",
    "df.head(3)"
   ]
  },
  {
   "cell_type": "code",
   "execution_count": 105,
   "metadata": {},
   "outputs": [
    {
     "data": {
      "text/plain": [
       "dtype('uint8')"
      ]
     },
     "execution_count": 105,
     "metadata": {},
     "output_type": "execute_result"
    }
   ],
   "source": [
    "df['Drop_out_Yes'].dtype"
   ]
  },
  {
   "cell_type": "code",
   "execution_count": 106,
   "metadata": {},
   "outputs": [
    {
     "name": "stdout",
     "output_type": "stream",
     "text": [
      "Optimization terminated successfully.\n",
      "         Current function value: 39.101211\n",
      "         Iterations 7\n"
     ]
    },
    {
     "data": {
      "text/html": [
       "<table class=\"simpletable\">\n",
       "<caption>Logit Regression Results</caption>\n",
       "<tr>\n",
       "  <th>Dep. Variable:</th>     <td>Drop_out_Yes</td>   <th>  No. Observations:  </th>  <td>   210</td> \n",
       "</tr>\n",
       "<tr>\n",
       "  <th>Model:</th>                 <td>Logit</td>      <th>  Df Residuals:      </th>  <td>   205</td> \n",
       "</tr>\n",
       "<tr>\n",
       "  <th>Method:</th>                 <td>MLE</td>       <th>  Df Model:          </th>  <td>     4</td> \n",
       "</tr>\n",
       "<tr>\n",
       "  <th>Date:</th>            <td>Fri, 30 Dec 2022</td> <th>  Pseudo R-squ.:     </th>  <td>   inf</td> \n",
       "</tr>\n",
       "<tr>\n",
       "  <th>Time:</th>                <td>01:28:26</td>     <th>  Log-Likelihood:    </th> <td> -8211.3</td>\n",
       "</tr>\n",
       "<tr>\n",
       "  <th>converged:</th>             <td>True</td>       <th>  LL-Null:           </th> <td>  0.0000</td>\n",
       "</tr>\n",
       "<tr>\n",
       "  <th>Covariance Type:</th>     <td>nonrobust</td>    <th>  LLR p-value:       </th>  <td> 1.000</td> \n",
       "</tr>\n",
       "</table>\n",
       "<table class=\"simpletable\">\n",
       "<tr>\n",
       "    <td></td>      <th>coef</th>     <th>std err</th>      <th>z</th>      <th>P>|z|</th>  <th>[0.025</th>    <th>0.975]</th>  \n",
       "</tr>\n",
       "<tr>\n",
       "  <th>Q_3</th>  <td>    0.2541</td> <td>    0.054</td> <td>    4.710</td> <td> 0.000</td> <td>    0.148</td> <td>    0.360</td>\n",
       "</tr>\n",
       "<tr>\n",
       "  <th>Q_4</th>  <td>    0.0767</td> <td>    0.188</td> <td>    0.408</td> <td> 0.683</td> <td>   -0.292</td> <td>    0.445</td>\n",
       "</tr>\n",
       "<tr>\n",
       "  <th>Q_5</th>  <td>   -5.4606</td> <td>    1.245</td> <td>   -4.387</td> <td> 0.000</td> <td>   -7.900</td> <td>   -3.021</td>\n",
       "</tr>\n",
       "<tr>\n",
       "  <th>Q_18</th> <td>   -0.1568</td> <td>    0.215</td> <td>   -0.730</td> <td> 0.465</td> <td>   -0.578</td> <td>    0.264</td>\n",
       "</tr>\n",
       "<tr>\n",
       "  <th>Q_19</th> <td>    0.8119</td> <td>    0.177</td> <td>    4.588</td> <td> 0.000</td> <td>    0.465</td> <td>    1.159</td>\n",
       "</tr>\n",
       "</table>"
      ],
      "text/plain": [
       "<class 'statsmodels.iolib.summary.Summary'>\n",
       "\"\"\"\n",
       "                           Logit Regression Results                           \n",
       "==============================================================================\n",
       "Dep. Variable:           Drop_out_Yes   No. Observations:                  210\n",
       "Model:                          Logit   Df Residuals:                      205\n",
       "Method:                           MLE   Df Model:                            4\n",
       "Date:                Fri, 30 Dec 2022   Pseudo R-squ.:                     inf\n",
       "Time:                        01:28:26   Log-Likelihood:                -8211.3\n",
       "converged:                       True   LL-Null:                        0.0000\n",
       "Covariance Type:            nonrobust   LLR p-value:                     1.000\n",
       "==============================================================================\n",
       "                 coef    std err          z      P>|z|      [0.025      0.975]\n",
       "------------------------------------------------------------------------------\n",
       "Q_3            0.2541      0.054      4.710      0.000       0.148       0.360\n",
       "Q_4            0.0767      0.188      0.408      0.683      -0.292       0.445\n",
       "Q_5           -5.4606      1.245     -4.387      0.000      -7.900      -3.021\n",
       "Q_18          -0.1568      0.215     -0.730      0.465      -0.578       0.264\n",
       "Q_19           0.8119      0.177      4.588      0.000       0.465       1.159\n",
       "==============================================================================\n",
       "\"\"\""
      ]
     },
     "execution_count": 106,
     "metadata": {},
     "output_type": "execute_result"
    }
   ],
   "source": [
    "lgr = Logit(endog=df['Drop_out_Yes'], exog=df[numerical_d]).fit()\n",
    "lgr.summary()"
   ]
  },
  {
   "cell_type": "code",
   "execution_count": 92,
   "metadata": {},
   "outputs": [
    {
     "data": {
      "application/vnd.plotly.v1+json": {
       "config": {
        "plotlyServerURL": "https://plot.ly"
       },
       "data": [
        {
         "text": [
          [
           1,
           0.2898490604223272,
           -0.24831882915856904,
           0.33218513819268036,
           0.274663717465782
          ],
          [
           0.2898490604223272,
           1,
           0.05140821012672475,
           0.6953443854188094,
           0.3714434704415027
          ],
          [
           -0.24831882915856904,
           0.05140821012672475,
           1,
           -0.23411674763112283,
           -0.12728327788045346
          ],
          [
           0.33218513819268036,
           0.6953443854188094,
           -0.23411674763112283,
           1,
           0.5147269391316889
          ],
          [
           0.274663717465782,
           0.3714434704415027,
           -0.12728327788045346,
           0.5147269391316889,
           1
          ]
         ],
         "texttemplate": "%{text:.2f}",
         "type": "heatmap",
         "x": [
          "Q_3",
          "Q_4",
          "Q_5",
          "Q_18",
          "Q_19"
         ],
         "y": [
          "Q_3",
          "Q_4",
          "Q_5",
          "Q_18",
          "Q_19"
         ],
         "z": [
          [
           1,
           0.2898490604223272,
           -0.24831882915856904,
           0.33218513819268036,
           0.274663717465782
          ],
          [
           0.2898490604223272,
           1,
           0.05140821012672475,
           0.6953443854188094,
           0.3714434704415027
          ],
          [
           -0.24831882915856904,
           0.05140821012672475,
           1,
           -0.23411674763112283,
           -0.12728327788045346
          ],
          [
           0.33218513819268036,
           0.6953443854188094,
           -0.23411674763112283,
           1,
           0.5147269391316889
          ],
          [
           0.274663717465782,
           0.3714434704415027,
           -0.12728327788045346,
           0.5147269391316889,
           1
          ]
         ]
        }
       ],
       "layout": {
        "template": {
         "data": {
          "bar": [
           {
            "error_x": {
             "color": "#2a3f5f"
            },
            "error_y": {
             "color": "#2a3f5f"
            },
            "marker": {
             "line": {
              "color": "#E5ECF6",
              "width": 0.5
             },
             "pattern": {
              "fillmode": "overlay",
              "size": 10,
              "solidity": 0.2
             }
            },
            "type": "bar"
           }
          ],
          "barpolar": [
           {
            "marker": {
             "line": {
              "color": "#E5ECF6",
              "width": 0.5
             },
             "pattern": {
              "fillmode": "overlay",
              "size": 10,
              "solidity": 0.2
             }
            },
            "type": "barpolar"
           }
          ],
          "carpet": [
           {
            "aaxis": {
             "endlinecolor": "#2a3f5f",
             "gridcolor": "white",
             "linecolor": "white",
             "minorgridcolor": "white",
             "startlinecolor": "#2a3f5f"
            },
            "baxis": {
             "endlinecolor": "#2a3f5f",
             "gridcolor": "white",
             "linecolor": "white",
             "minorgridcolor": "white",
             "startlinecolor": "#2a3f5f"
            },
            "type": "carpet"
           }
          ],
          "choropleth": [
           {
            "colorbar": {
             "outlinewidth": 0,
             "ticks": ""
            },
            "type": "choropleth"
           }
          ],
          "contour": [
           {
            "colorbar": {
             "outlinewidth": 0,
             "ticks": ""
            },
            "colorscale": [
             [
              0,
              "#0d0887"
             ],
             [
              0.1111111111111111,
              "#46039f"
             ],
             [
              0.2222222222222222,
              "#7201a8"
             ],
             [
              0.3333333333333333,
              "#9c179e"
             ],
             [
              0.4444444444444444,
              "#bd3786"
             ],
             [
              0.5555555555555556,
              "#d8576b"
             ],
             [
              0.6666666666666666,
              "#ed7953"
             ],
             [
              0.7777777777777778,
              "#fb9f3a"
             ],
             [
              0.8888888888888888,
              "#fdca26"
             ],
             [
              1,
              "#f0f921"
             ]
            ],
            "type": "contour"
           }
          ],
          "contourcarpet": [
           {
            "colorbar": {
             "outlinewidth": 0,
             "ticks": ""
            },
            "type": "contourcarpet"
           }
          ],
          "heatmap": [
           {
            "colorbar": {
             "outlinewidth": 0,
             "ticks": ""
            },
            "colorscale": [
             [
              0,
              "#0d0887"
             ],
             [
              0.1111111111111111,
              "#46039f"
             ],
             [
              0.2222222222222222,
              "#7201a8"
             ],
             [
              0.3333333333333333,
              "#9c179e"
             ],
             [
              0.4444444444444444,
              "#bd3786"
             ],
             [
              0.5555555555555556,
              "#d8576b"
             ],
             [
              0.6666666666666666,
              "#ed7953"
             ],
             [
              0.7777777777777778,
              "#fb9f3a"
             ],
             [
              0.8888888888888888,
              "#fdca26"
             ],
             [
              1,
              "#f0f921"
             ]
            ],
            "type": "heatmap"
           }
          ],
          "heatmapgl": [
           {
            "colorbar": {
             "outlinewidth": 0,
             "ticks": ""
            },
            "colorscale": [
             [
              0,
              "#0d0887"
             ],
             [
              0.1111111111111111,
              "#46039f"
             ],
             [
              0.2222222222222222,
              "#7201a8"
             ],
             [
              0.3333333333333333,
              "#9c179e"
             ],
             [
              0.4444444444444444,
              "#bd3786"
             ],
             [
              0.5555555555555556,
              "#d8576b"
             ],
             [
              0.6666666666666666,
              "#ed7953"
             ],
             [
              0.7777777777777778,
              "#fb9f3a"
             ],
             [
              0.8888888888888888,
              "#fdca26"
             ],
             [
              1,
              "#f0f921"
             ]
            ],
            "type": "heatmapgl"
           }
          ],
          "histogram": [
           {
            "marker": {
             "pattern": {
              "fillmode": "overlay",
              "size": 10,
              "solidity": 0.2
             }
            },
            "type": "histogram"
           }
          ],
          "histogram2d": [
           {
            "colorbar": {
             "outlinewidth": 0,
             "ticks": ""
            },
            "colorscale": [
             [
              0,
              "#0d0887"
             ],
             [
              0.1111111111111111,
              "#46039f"
             ],
             [
              0.2222222222222222,
              "#7201a8"
             ],
             [
              0.3333333333333333,
              "#9c179e"
             ],
             [
              0.4444444444444444,
              "#bd3786"
             ],
             [
              0.5555555555555556,
              "#d8576b"
             ],
             [
              0.6666666666666666,
              "#ed7953"
             ],
             [
              0.7777777777777778,
              "#fb9f3a"
             ],
             [
              0.8888888888888888,
              "#fdca26"
             ],
             [
              1,
              "#f0f921"
             ]
            ],
            "type": "histogram2d"
           }
          ],
          "histogram2dcontour": [
           {
            "colorbar": {
             "outlinewidth": 0,
             "ticks": ""
            },
            "colorscale": [
             [
              0,
              "#0d0887"
             ],
             [
              0.1111111111111111,
              "#46039f"
             ],
             [
              0.2222222222222222,
              "#7201a8"
             ],
             [
              0.3333333333333333,
              "#9c179e"
             ],
             [
              0.4444444444444444,
              "#bd3786"
             ],
             [
              0.5555555555555556,
              "#d8576b"
             ],
             [
              0.6666666666666666,
              "#ed7953"
             ],
             [
              0.7777777777777778,
              "#fb9f3a"
             ],
             [
              0.8888888888888888,
              "#fdca26"
             ],
             [
              1,
              "#f0f921"
             ]
            ],
            "type": "histogram2dcontour"
           }
          ],
          "mesh3d": [
           {
            "colorbar": {
             "outlinewidth": 0,
             "ticks": ""
            },
            "type": "mesh3d"
           }
          ],
          "parcoords": [
           {
            "line": {
             "colorbar": {
              "outlinewidth": 0,
              "ticks": ""
             }
            },
            "type": "parcoords"
           }
          ],
          "pie": [
           {
            "automargin": true,
            "type": "pie"
           }
          ],
          "scatter": [
           {
            "fillpattern": {
             "fillmode": "overlay",
             "size": 10,
             "solidity": 0.2
            },
            "type": "scatter"
           }
          ],
          "scatter3d": [
           {
            "line": {
             "colorbar": {
              "outlinewidth": 0,
              "ticks": ""
             }
            },
            "marker": {
             "colorbar": {
              "outlinewidth": 0,
              "ticks": ""
             }
            },
            "type": "scatter3d"
           }
          ],
          "scattercarpet": [
           {
            "marker": {
             "colorbar": {
              "outlinewidth": 0,
              "ticks": ""
             }
            },
            "type": "scattercarpet"
           }
          ],
          "scattergeo": [
           {
            "marker": {
             "colorbar": {
              "outlinewidth": 0,
              "ticks": ""
             }
            },
            "type": "scattergeo"
           }
          ],
          "scattergl": [
           {
            "marker": {
             "colorbar": {
              "outlinewidth": 0,
              "ticks": ""
             }
            },
            "type": "scattergl"
           }
          ],
          "scattermapbox": [
           {
            "marker": {
             "colorbar": {
              "outlinewidth": 0,
              "ticks": ""
             }
            },
            "type": "scattermapbox"
           }
          ],
          "scatterpolar": [
           {
            "marker": {
             "colorbar": {
              "outlinewidth": 0,
              "ticks": ""
             }
            },
            "type": "scatterpolar"
           }
          ],
          "scatterpolargl": [
           {
            "marker": {
             "colorbar": {
              "outlinewidth": 0,
              "ticks": ""
             }
            },
            "type": "scatterpolargl"
           }
          ],
          "scatterternary": [
           {
            "marker": {
             "colorbar": {
              "outlinewidth": 0,
              "ticks": ""
             }
            },
            "type": "scatterternary"
           }
          ],
          "surface": [
           {
            "colorbar": {
             "outlinewidth": 0,
             "ticks": ""
            },
            "colorscale": [
             [
              0,
              "#0d0887"
             ],
             [
              0.1111111111111111,
              "#46039f"
             ],
             [
              0.2222222222222222,
              "#7201a8"
             ],
             [
              0.3333333333333333,
              "#9c179e"
             ],
             [
              0.4444444444444444,
              "#bd3786"
             ],
             [
              0.5555555555555556,
              "#d8576b"
             ],
             [
              0.6666666666666666,
              "#ed7953"
             ],
             [
              0.7777777777777778,
              "#fb9f3a"
             ],
             [
              0.8888888888888888,
              "#fdca26"
             ],
             [
              1,
              "#f0f921"
             ]
            ],
            "type": "surface"
           }
          ],
          "table": [
           {
            "cells": {
             "fill": {
              "color": "#EBF0F8"
             },
             "line": {
              "color": "white"
             }
            },
            "header": {
             "fill": {
              "color": "#C8D4E3"
             },
             "line": {
              "color": "white"
             }
            },
            "type": "table"
           }
          ]
         },
         "layout": {
          "annotationdefaults": {
           "arrowcolor": "#2a3f5f",
           "arrowhead": 0,
           "arrowwidth": 1
          },
          "autotypenumbers": "strict",
          "coloraxis": {
           "colorbar": {
            "outlinewidth": 0,
            "ticks": ""
           }
          },
          "colorscale": {
           "diverging": [
            [
             0,
             "#8e0152"
            ],
            [
             0.1,
             "#c51b7d"
            ],
            [
             0.2,
             "#de77ae"
            ],
            [
             0.3,
             "#f1b6da"
            ],
            [
             0.4,
             "#fde0ef"
            ],
            [
             0.5,
             "#f7f7f7"
            ],
            [
             0.6,
             "#e6f5d0"
            ],
            [
             0.7,
             "#b8e186"
            ],
            [
             0.8,
             "#7fbc41"
            ],
            [
             0.9,
             "#4d9221"
            ],
            [
             1,
             "#276419"
            ]
           ],
           "sequential": [
            [
             0,
             "#0d0887"
            ],
            [
             0.1111111111111111,
             "#46039f"
            ],
            [
             0.2222222222222222,
             "#7201a8"
            ],
            [
             0.3333333333333333,
             "#9c179e"
            ],
            [
             0.4444444444444444,
             "#bd3786"
            ],
            [
             0.5555555555555556,
             "#d8576b"
            ],
            [
             0.6666666666666666,
             "#ed7953"
            ],
            [
             0.7777777777777778,
             "#fb9f3a"
            ],
            [
             0.8888888888888888,
             "#fdca26"
            ],
            [
             1,
             "#f0f921"
            ]
           ],
           "sequentialminus": [
            [
             0,
             "#0d0887"
            ],
            [
             0.1111111111111111,
             "#46039f"
            ],
            [
             0.2222222222222222,
             "#7201a8"
            ],
            [
             0.3333333333333333,
             "#9c179e"
            ],
            [
             0.4444444444444444,
             "#bd3786"
            ],
            [
             0.5555555555555556,
             "#d8576b"
            ],
            [
             0.6666666666666666,
             "#ed7953"
            ],
            [
             0.7777777777777778,
             "#fb9f3a"
            ],
            [
             0.8888888888888888,
             "#fdca26"
            ],
            [
             1,
             "#f0f921"
            ]
           ]
          },
          "colorway": [
           "#636efa",
           "#EF553B",
           "#00cc96",
           "#ab63fa",
           "#FFA15A",
           "#19d3f3",
           "#FF6692",
           "#B6E880",
           "#FF97FF",
           "#FECB52"
          ],
          "font": {
           "color": "#2a3f5f"
          },
          "geo": {
           "bgcolor": "white",
           "lakecolor": "white",
           "landcolor": "#E5ECF6",
           "showlakes": true,
           "showland": true,
           "subunitcolor": "white"
          },
          "hoverlabel": {
           "align": "left"
          },
          "hovermode": "closest",
          "mapbox": {
           "style": "light"
          },
          "paper_bgcolor": "white",
          "plot_bgcolor": "#E5ECF6",
          "polar": {
           "angularaxis": {
            "gridcolor": "white",
            "linecolor": "white",
            "ticks": ""
           },
           "bgcolor": "#E5ECF6",
           "radialaxis": {
            "gridcolor": "white",
            "linecolor": "white",
            "ticks": ""
           }
          },
          "scene": {
           "xaxis": {
            "backgroundcolor": "#E5ECF6",
            "gridcolor": "white",
            "gridwidth": 2,
            "linecolor": "white",
            "showbackground": true,
            "ticks": "",
            "zerolinecolor": "white"
           },
           "yaxis": {
            "backgroundcolor": "#E5ECF6",
            "gridcolor": "white",
            "gridwidth": 2,
            "linecolor": "white",
            "showbackground": true,
            "ticks": "",
            "zerolinecolor": "white"
           },
           "zaxis": {
            "backgroundcolor": "#E5ECF6",
            "gridcolor": "white",
            "gridwidth": 2,
            "linecolor": "white",
            "showbackground": true,
            "ticks": "",
            "zerolinecolor": "white"
           }
          },
          "shapedefaults": {
           "line": {
            "color": "#2a3f5f"
           }
          },
          "ternary": {
           "aaxis": {
            "gridcolor": "white",
            "linecolor": "white",
            "ticks": ""
           },
           "baxis": {
            "gridcolor": "white",
            "linecolor": "white",
            "ticks": ""
           },
           "bgcolor": "#E5ECF6",
           "caxis": {
            "gridcolor": "white",
            "linecolor": "white",
            "ticks": ""
           }
          },
          "title": {
           "x": 0.05
          },
          "xaxis": {
           "automargin": true,
           "gridcolor": "white",
           "linecolor": "white",
           "ticks": "",
           "title": {
            "standoff": 15
           },
           "zerolinecolor": "white",
           "zerolinewidth": 2
          },
          "yaxis": {
           "automargin": true,
           "gridcolor": "white",
           "linecolor": "white",
           "ticks": "",
           "title": {
            "standoff": 15
           },
           "zerolinecolor": "white",
           "zerolinewidth": 2
          }
         }
        }
       }
      }
     },
     "metadata": {},
     "output_type": "display_data"
    }
   ],
   "source": [
    "import plotly.graph_objects as go\n",
    "import numpy as np\n",
    "\n",
    "nc = df[numerical_d].corr()\n",
    "fig = go.Figure()\n",
    "fig.add_trace(\n",
    "    go.Heatmap(\n",
    "        x = nc.columns,\n",
    "        y = nc.index,\n",
    "        z = np.array(nc),\n",
    "        text=nc.values,\n",
    "        texttemplate='%{text:.2f}'\n",
    "    )\n",
    ")\n",
    "fig.show()"
   ]
  },
  {
   "cell_type": "code",
   "execution_count": 93,
   "metadata": {},
   "outputs": [],
   "source": [
    "sig_factors = []\n",
    "\n",
    "for i in numerical_d:\n",
    "    p_val = stats.kstest(df[i], 'norm').pvalue\n",
    "    if p_val<0.05:\n",
    "        sig_factors.append(i)\n",
    "\n",
    "for i in categorical_d:\n",
    "    crs = pd.crosstab(index=df['Drop_out_Yes'], columns=df[i])\n",
    "    stat, p, dof = stats.chi2_contingency(crs.values)[0:3]\n",
    "    if p<0.05:\n",
    "        sig_factors.append(i)"
   ]
  },
  {
   "cell_type": "code",
   "execution_count": 94,
   "metadata": {},
   "outputs": [
    {
     "data": {
      "text/plain": [
       "Q_3            int64\n",
       "Q_4            int64\n",
       "Q_5          float64\n",
       "Q_18           int64\n",
       "Q_19           int64\n",
       "Q_8           object\n",
       "Q_9           object\n",
       "Q_10          object\n",
       "Q_11          object\n",
       "Q_12          object\n",
       "Q_13          object\n",
       "Q_16          object\n",
       "Q_17          object\n",
       "Q_21          object\n",
       "Q_23          object\n",
       "Q_24          object\n",
       "Q_27          object\n",
       "Q_29          object\n",
       "Q_31          object\n",
       "Q_34          object\n",
       "Q_35_ii       object\n",
       "Q_35_iii      object\n",
       "Q_35_iv       object\n",
       "Q_35_vi       object\n",
       "Q_36          object\n",
       "Q_37_iii      object\n",
       "Q_37_iv       object\n",
       "Q_37_vi       object\n",
       "Q_37_vii      object\n",
       "Q_37_xiii     object\n",
       "Q_37_xiv      object\n",
       "Q_37_xv       object\n",
       "dtype: object"
      ]
     },
     "metadata": {},
     "output_type": "display_data"
    }
   ],
   "source": [
    "display(df[sig_factors].dtypes)"
   ]
  },
  {
   "cell_type": "code",
   "execution_count": 95,
   "metadata": {},
   "outputs": [
    {
     "data": {
      "text/html": [
       "<div>\n",
       "<style scoped>\n",
       "    .dataframe tbody tr th:only-of-type {\n",
       "        vertical-align: middle;\n",
       "    }\n",
       "\n",
       "    .dataframe tbody tr th {\n",
       "        vertical-align: top;\n",
       "    }\n",
       "\n",
       "    .dataframe thead th {\n",
       "        text-align: right;\n",
       "    }\n",
       "</style>\n",
       "<table border=\"1\" class=\"dataframe\">\n",
       "  <thead>\n",
       "    <tr style=\"text-align: right;\">\n",
       "      <th></th>\n",
       "      <th>Q_3</th>\n",
       "      <th>Q_4</th>\n",
       "      <th>Q_5</th>\n",
       "      <th>Q_18</th>\n",
       "      <th>Q_19</th>\n",
       "      <th>Q_8</th>\n",
       "      <th>Q_9</th>\n",
       "      <th>Q_10</th>\n",
       "      <th>Q_11</th>\n",
       "      <th>Q_12</th>\n",
       "      <th>Q_13</th>\n",
       "      <th>Q_16</th>\n",
       "      <th>Q_17</th>\n",
       "      <th>Q_21</th>\n",
       "      <th>Q_23</th>\n",
       "      <th>Q_24</th>\n",
       "      <th>Q_27</th>\n",
       "      <th>Q_29</th>\n",
       "      <th>Q_31</th>\n",
       "      <th>Q_34</th>\n",
       "      <th>Q_35_ii</th>\n",
       "      <th>Q_35_iii</th>\n",
       "      <th>Q_35_iv</th>\n",
       "      <th>Q_35_vi</th>\n",
       "      <th>Q_36</th>\n",
       "      <th>Q_37_iii</th>\n",
       "      <th>Q_37_iv</th>\n",
       "      <th>Q_37_vi</th>\n",
       "      <th>Q_37_vii</th>\n",
       "      <th>Q_37_xiii</th>\n",
       "      <th>Q_37_xiv</th>\n",
       "      <th>Q_37_xv</th>\n",
       "    </tr>\n",
       "    <tr>\n",
       "      <th>Serial_no</th>\n",
       "      <th></th>\n",
       "      <th></th>\n",
       "      <th></th>\n",
       "      <th></th>\n",
       "      <th></th>\n",
       "      <th></th>\n",
       "      <th></th>\n",
       "      <th></th>\n",
       "      <th></th>\n",
       "      <th></th>\n",
       "      <th></th>\n",
       "      <th></th>\n",
       "      <th></th>\n",
       "      <th></th>\n",
       "      <th></th>\n",
       "      <th></th>\n",
       "      <th></th>\n",
       "      <th></th>\n",
       "      <th></th>\n",
       "      <th></th>\n",
       "      <th></th>\n",
       "      <th></th>\n",
       "      <th></th>\n",
       "      <th></th>\n",
       "      <th></th>\n",
       "      <th></th>\n",
       "      <th></th>\n",
       "      <th></th>\n",
       "      <th></th>\n",
       "      <th></th>\n",
       "      <th></th>\n",
       "      <th></th>\n",
       "    </tr>\n",
       "  </thead>\n",
       "  <tbody>\n",
       "    <tr>\n",
       "      <th>1</th>\n",
       "      <td>27</td>\n",
       "      <td>8</td>\n",
       "      <td>0.951913</td>\n",
       "      <td>7</td>\n",
       "      <td>6</td>\n",
       "      <td>Primary</td>\n",
       "      <td>Less</td>\n",
       "      <td>Bad</td>\n",
       "      <td>Rural</td>\n",
       "      <td>No</td>\n",
       "      <td>Average</td>\n",
       "      <td>No</td>\n",
       "      <td>Neutral</td>\n",
       "      <td>Yes</td>\n",
       "      <td>No</td>\n",
       "      <td>No</td>\n",
       "      <td>Rural</td>\n",
       "      <td>Good</td>\n",
       "      <td>Public</td>\n",
       "      <td>Neutral</td>\n",
       "      <td>No</td>\n",
       "      <td>No</td>\n",
       "      <td>No</td>\n",
       "      <td>No</td>\n",
       "      <td>Yes</td>\n",
       "      <td>Strongly_disagree</td>\n",
       "      <td>Strongly_agree</td>\n",
       "      <td>Strongly_disagree</td>\n",
       "      <td>Strongly_disagree</td>\n",
       "      <td>Strongly_disagree</td>\n",
       "      <td>Strongly_disagree</td>\n",
       "      <td>Strongly_agree</td>\n",
       "    </tr>\n",
       "    <tr>\n",
       "      <th>2</th>\n",
       "      <td>26</td>\n",
       "      <td>10</td>\n",
       "      <td>0.951912</td>\n",
       "      <td>8</td>\n",
       "      <td>7</td>\n",
       "      <td>Primary</td>\n",
       "      <td>Very_much</td>\n",
       "      <td>Good</td>\n",
       "      <td>Rural</td>\n",
       "      <td>No</td>\n",
       "      <td>Average</td>\n",
       "      <td>Yes</td>\n",
       "      <td>Supportive</td>\n",
       "      <td>No</td>\n",
       "      <td>No</td>\n",
       "      <td>Yes</td>\n",
       "      <td>Rural</td>\n",
       "      <td>Good</td>\n",
       "      <td>Public</td>\n",
       "      <td>Yes</td>\n",
       "      <td>No</td>\n",
       "      <td>No</td>\n",
       "      <td>No</td>\n",
       "      <td>Yes</td>\n",
       "      <td>Yes</td>\n",
       "      <td>Strongly_disagree</td>\n",
       "      <td>Neutral</td>\n",
       "      <td>Disagree</td>\n",
       "      <td>Strongly_disagree</td>\n",
       "      <td>Strongly_agree</td>\n",
       "      <td>Strongly_agree</td>\n",
       "      <td>Agree</td>\n",
       "    </tr>\n",
       "    <tr>\n",
       "      <th>3</th>\n",
       "      <td>26</td>\n",
       "      <td>6</td>\n",
       "      <td>0.951912</td>\n",
       "      <td>4</td>\n",
       "      <td>4</td>\n",
       "      <td>Primary</td>\n",
       "      <td>Very_much</td>\n",
       "      <td>Good</td>\n",
       "      <td>Urban</td>\n",
       "      <td>No</td>\n",
       "      <td>Average</td>\n",
       "      <td>No</td>\n",
       "      <td>Neutral</td>\n",
       "      <td>Yes</td>\n",
       "      <td>No</td>\n",
       "      <td>Yes</td>\n",
       "      <td>Urban</td>\n",
       "      <td>Good</td>\n",
       "      <td>Private</td>\n",
       "      <td>Yes</td>\n",
       "      <td>No</td>\n",
       "      <td>No</td>\n",
       "      <td>No</td>\n",
       "      <td>Yes</td>\n",
       "      <td>Yes</td>\n",
       "      <td>Disagree</td>\n",
       "      <td>Disagree</td>\n",
       "      <td>Strongly_disagree</td>\n",
       "      <td>Disagree</td>\n",
       "      <td>Strongly_agree</td>\n",
       "      <td>Strongly_agree</td>\n",
       "      <td>Neutral</td>\n",
       "    </tr>\n",
       "  </tbody>\n",
       "</table>\n",
       "</div>"
      ],
      "text/plain": [
       "           Q_3  Q_4       Q_5  Q_18  Q_19      Q_8        Q_9  Q_10   Q_11  \\\n",
       "Serial_no                                                                    \n",
       "1           27    8  0.951913     7     6  Primary       Less   Bad  Rural   \n",
       "2           26   10  0.951912     8     7  Primary  Very_much  Good  Rural   \n",
       "3           26    6  0.951912     4     4  Primary  Very_much  Good  Urban   \n",
       "\n",
       "          Q_12     Q_13 Q_16        Q_17 Q_21 Q_23 Q_24   Q_27  Q_29     Q_31  \\\n",
       "Serial_no                                                                       \n",
       "1           No  Average   No     Neutral  Yes   No   No  Rural  Good   Public   \n",
       "2           No  Average  Yes  Supportive   No   No  Yes  Rural  Good   Public   \n",
       "3           No  Average   No     Neutral  Yes   No  Yes  Urban  Good  Private   \n",
       "\n",
       "              Q_34 Q_35_ii Q_35_iii Q_35_iv Q_35_vi Q_36           Q_37_iii  \\\n",
       "Serial_no                                                                     \n",
       "1          Neutral      No       No      No      No  Yes  Strongly_disagree   \n",
       "2              Yes      No       No      No     Yes  Yes  Strongly_disagree   \n",
       "3              Yes      No       No      No     Yes  Yes           Disagree   \n",
       "\n",
       "                  Q_37_iv            Q_37_vi           Q_37_vii  \\\n",
       "Serial_no                                                         \n",
       "1          Strongly_agree  Strongly_disagree  Strongly_disagree   \n",
       "2                 Neutral           Disagree  Strongly_disagree   \n",
       "3                Disagree  Strongly_disagree           Disagree   \n",
       "\n",
       "                   Q_37_xiii           Q_37_xiv         Q_37_xv  \n",
       "Serial_no                                                        \n",
       "1          Strongly_disagree  Strongly_disagree  Strongly_agree  \n",
       "2             Strongly_agree     Strongly_agree           Agree  \n",
       "3             Strongly_agree     Strongly_agree         Neutral  "
      ]
     },
     "execution_count": 95,
     "metadata": {},
     "output_type": "execute_result"
    }
   ],
   "source": [
    "X = df[sig_factors]\n",
    "y = df['Drop_out_Yes']\n",
    "X.head(3)"
   ]
  },
  {
   "cell_type": "code",
   "execution_count": 96,
   "metadata": {},
   "outputs": [
    {
     "data": {
      "text/html": [
       "<div>\n",
       "<style scoped>\n",
       "    .dataframe tbody tr th:only-of-type {\n",
       "        vertical-align: middle;\n",
       "    }\n",
       "\n",
       "    .dataframe tbody tr th {\n",
       "        vertical-align: top;\n",
       "    }\n",
       "\n",
       "    .dataframe thead th {\n",
       "        text-align: right;\n",
       "    }\n",
       "</style>\n",
       "<table border=\"1\" class=\"dataframe\">\n",
       "  <thead>\n",
       "    <tr style=\"text-align: right;\">\n",
       "      <th></th>\n",
       "      <th>Q_3</th>\n",
       "      <th>Q_4</th>\n",
       "      <th>Q_5</th>\n",
       "      <th>Q_18</th>\n",
       "      <th>Q_19</th>\n",
       "      <th>Q_8_Primary</th>\n",
       "      <th>Q_8_Secondary</th>\n",
       "      <th>Q_9_Neutral</th>\n",
       "      <th>Q_9_Very_much</th>\n",
       "      <th>Q_10_Bad</th>\n",
       "      <th>Q_10_Good</th>\n",
       "      <th>Q_11_Urban</th>\n",
       "      <th>Q_12_Not_Applicable</th>\n",
       "      <th>Q_12_Yes</th>\n",
       "      <th>Q_13_Bad</th>\n",
       "      <th>Q_13_Good</th>\n",
       "      <th>Q_16_No</th>\n",
       "      <th>Q_16_Yes</th>\n",
       "      <th>Q_17_No_Support</th>\n",
       "      <th>Q_17_Supportive</th>\n",
       "      <th>Q_21_Yes</th>\n",
       "      <th>Q_23_Yes</th>\n",
       "      <th>Q_24_Yes</th>\n",
       "      <th>Q_27_Urban</th>\n",
       "      <th>Q_29_Good</th>\n",
       "      <th>Q_29_Neutral</th>\n",
       "      <th>Q_31_Public</th>\n",
       "      <th>Q_34_No</th>\n",
       "      <th>Q_34_Yes</th>\n",
       "      <th>Q_35_ii_Yes</th>\n",
       "      <th>Q_35_iii_Yes</th>\n",
       "      <th>Q_35_iv_Yes</th>\n",
       "      <th>Q_35_vi_Yes</th>\n",
       "      <th>Q_36_Yes</th>\n",
       "      <th>Q_37_iii_Disagree</th>\n",
       "      <th>Q_37_iii_Neutral</th>\n",
       "      <th>Q_37_iii_Strongly_agree</th>\n",
       "      <th>Q_37_iii_Strongly_disagree</th>\n",
       "      <th>Q_37_iv_Disagree</th>\n",
       "      <th>Q_37_iv_Neutral</th>\n",
       "      <th>Q_37_iv_Strongly_agree</th>\n",
       "      <th>Q_37_iv_Strongly_disagree</th>\n",
       "      <th>Q_37_vi_Disagree</th>\n",
       "      <th>Q_37_vi_Neutral</th>\n",
       "      <th>Q_37_vi_Strongly_agree</th>\n",
       "      <th>Q_37_vi_Strongly_disagree</th>\n",
       "      <th>Q_37_vii_Disagree</th>\n",
       "      <th>Q_37_vii_Neutral</th>\n",
       "      <th>Q_37_vii_Strongly_agree</th>\n",
       "      <th>Q_37_vii_Strongly_disagree</th>\n",
       "      <th>Q_37_xiii_Disagree</th>\n",
       "      <th>Q_37_xiii_Neutral</th>\n",
       "      <th>Q_37_xiii_Strongly_agree</th>\n",
       "      <th>Q_37_xiii_Strongly_disagree</th>\n",
       "      <th>Q_37_xiv_Disagree</th>\n",
       "      <th>Q_37_xiv_Neutral</th>\n",
       "      <th>Q_37_xiv_Strongly_agree</th>\n",
       "      <th>Q_37_xiv_Strongly_disagree</th>\n",
       "      <th>Q_37_xv_Disagree</th>\n",
       "      <th>Q_37_xv_Neutral</th>\n",
       "      <th>Q_37_xv_Strongly_agree</th>\n",
       "      <th>Q_37_xv_Strongly_disagree</th>\n",
       "    </tr>\n",
       "    <tr>\n",
       "      <th>Serial_no</th>\n",
       "      <th></th>\n",
       "      <th></th>\n",
       "      <th></th>\n",
       "      <th></th>\n",
       "      <th></th>\n",
       "      <th></th>\n",
       "      <th></th>\n",
       "      <th></th>\n",
       "      <th></th>\n",
       "      <th></th>\n",
       "      <th></th>\n",
       "      <th></th>\n",
       "      <th></th>\n",
       "      <th></th>\n",
       "      <th></th>\n",
       "      <th></th>\n",
       "      <th></th>\n",
       "      <th></th>\n",
       "      <th></th>\n",
       "      <th></th>\n",
       "      <th></th>\n",
       "      <th></th>\n",
       "      <th></th>\n",
       "      <th></th>\n",
       "      <th></th>\n",
       "      <th></th>\n",
       "      <th></th>\n",
       "      <th></th>\n",
       "      <th></th>\n",
       "      <th></th>\n",
       "      <th></th>\n",
       "      <th></th>\n",
       "      <th></th>\n",
       "      <th></th>\n",
       "      <th></th>\n",
       "      <th></th>\n",
       "      <th></th>\n",
       "      <th></th>\n",
       "      <th></th>\n",
       "      <th></th>\n",
       "      <th></th>\n",
       "      <th></th>\n",
       "      <th></th>\n",
       "      <th></th>\n",
       "      <th></th>\n",
       "      <th></th>\n",
       "      <th></th>\n",
       "      <th></th>\n",
       "      <th></th>\n",
       "      <th></th>\n",
       "      <th></th>\n",
       "      <th></th>\n",
       "      <th></th>\n",
       "      <th></th>\n",
       "      <th></th>\n",
       "      <th></th>\n",
       "      <th></th>\n",
       "      <th></th>\n",
       "      <th></th>\n",
       "      <th></th>\n",
       "      <th></th>\n",
       "      <th></th>\n",
       "    </tr>\n",
       "  </thead>\n",
       "  <tbody>\n",
       "    <tr>\n",
       "      <th>1</th>\n",
       "      <td>27</td>\n",
       "      <td>8</td>\n",
       "      <td>0.951913</td>\n",
       "      <td>7</td>\n",
       "      <td>6</td>\n",
       "      <td>1</td>\n",
       "      <td>0</td>\n",
       "      <td>0</td>\n",
       "      <td>0</td>\n",
       "      <td>1</td>\n",
       "      <td>0</td>\n",
       "      <td>0</td>\n",
       "      <td>0</td>\n",
       "      <td>0</td>\n",
       "      <td>0</td>\n",
       "      <td>0</td>\n",
       "      <td>1</td>\n",
       "      <td>0</td>\n",
       "      <td>0</td>\n",
       "      <td>0</td>\n",
       "      <td>1</td>\n",
       "      <td>0</td>\n",
       "      <td>0</td>\n",
       "      <td>0</td>\n",
       "      <td>1</td>\n",
       "      <td>0</td>\n",
       "      <td>1</td>\n",
       "      <td>0</td>\n",
       "      <td>0</td>\n",
       "      <td>0</td>\n",
       "      <td>0</td>\n",
       "      <td>0</td>\n",
       "      <td>0</td>\n",
       "      <td>1</td>\n",
       "      <td>0</td>\n",
       "      <td>0</td>\n",
       "      <td>0</td>\n",
       "      <td>1</td>\n",
       "      <td>0</td>\n",
       "      <td>0</td>\n",
       "      <td>1</td>\n",
       "      <td>0</td>\n",
       "      <td>0</td>\n",
       "      <td>0</td>\n",
       "      <td>0</td>\n",
       "      <td>1</td>\n",
       "      <td>0</td>\n",
       "      <td>0</td>\n",
       "      <td>0</td>\n",
       "      <td>1</td>\n",
       "      <td>0</td>\n",
       "      <td>0</td>\n",
       "      <td>0</td>\n",
       "      <td>1</td>\n",
       "      <td>0</td>\n",
       "      <td>0</td>\n",
       "      <td>0</td>\n",
       "      <td>1</td>\n",
       "      <td>0</td>\n",
       "      <td>0</td>\n",
       "      <td>1</td>\n",
       "      <td>0</td>\n",
       "    </tr>\n",
       "    <tr>\n",
       "      <th>2</th>\n",
       "      <td>26</td>\n",
       "      <td>10</td>\n",
       "      <td>0.951912</td>\n",
       "      <td>8</td>\n",
       "      <td>7</td>\n",
       "      <td>1</td>\n",
       "      <td>0</td>\n",
       "      <td>0</td>\n",
       "      <td>1</td>\n",
       "      <td>0</td>\n",
       "      <td>1</td>\n",
       "      <td>0</td>\n",
       "      <td>0</td>\n",
       "      <td>0</td>\n",
       "      <td>0</td>\n",
       "      <td>0</td>\n",
       "      <td>0</td>\n",
       "      <td>1</td>\n",
       "      <td>0</td>\n",
       "      <td>1</td>\n",
       "      <td>0</td>\n",
       "      <td>0</td>\n",
       "      <td>1</td>\n",
       "      <td>0</td>\n",
       "      <td>1</td>\n",
       "      <td>0</td>\n",
       "      <td>1</td>\n",
       "      <td>0</td>\n",
       "      <td>1</td>\n",
       "      <td>0</td>\n",
       "      <td>0</td>\n",
       "      <td>0</td>\n",
       "      <td>1</td>\n",
       "      <td>1</td>\n",
       "      <td>0</td>\n",
       "      <td>0</td>\n",
       "      <td>0</td>\n",
       "      <td>1</td>\n",
       "      <td>0</td>\n",
       "      <td>1</td>\n",
       "      <td>0</td>\n",
       "      <td>0</td>\n",
       "      <td>1</td>\n",
       "      <td>0</td>\n",
       "      <td>0</td>\n",
       "      <td>0</td>\n",
       "      <td>0</td>\n",
       "      <td>0</td>\n",
       "      <td>0</td>\n",
       "      <td>1</td>\n",
       "      <td>0</td>\n",
       "      <td>0</td>\n",
       "      <td>1</td>\n",
       "      <td>0</td>\n",
       "      <td>0</td>\n",
       "      <td>0</td>\n",
       "      <td>1</td>\n",
       "      <td>0</td>\n",
       "      <td>0</td>\n",
       "      <td>0</td>\n",
       "      <td>0</td>\n",
       "      <td>0</td>\n",
       "    </tr>\n",
       "    <tr>\n",
       "      <th>3</th>\n",
       "      <td>26</td>\n",
       "      <td>6</td>\n",
       "      <td>0.951912</td>\n",
       "      <td>4</td>\n",
       "      <td>4</td>\n",
       "      <td>1</td>\n",
       "      <td>0</td>\n",
       "      <td>0</td>\n",
       "      <td>1</td>\n",
       "      <td>0</td>\n",
       "      <td>1</td>\n",
       "      <td>1</td>\n",
       "      <td>0</td>\n",
       "      <td>0</td>\n",
       "      <td>0</td>\n",
       "      <td>0</td>\n",
       "      <td>1</td>\n",
       "      <td>0</td>\n",
       "      <td>0</td>\n",
       "      <td>0</td>\n",
       "      <td>1</td>\n",
       "      <td>0</td>\n",
       "      <td>1</td>\n",
       "      <td>1</td>\n",
       "      <td>1</td>\n",
       "      <td>0</td>\n",
       "      <td>0</td>\n",
       "      <td>0</td>\n",
       "      <td>1</td>\n",
       "      <td>0</td>\n",
       "      <td>0</td>\n",
       "      <td>0</td>\n",
       "      <td>1</td>\n",
       "      <td>1</td>\n",
       "      <td>1</td>\n",
       "      <td>0</td>\n",
       "      <td>0</td>\n",
       "      <td>0</td>\n",
       "      <td>1</td>\n",
       "      <td>0</td>\n",
       "      <td>0</td>\n",
       "      <td>0</td>\n",
       "      <td>0</td>\n",
       "      <td>0</td>\n",
       "      <td>0</td>\n",
       "      <td>1</td>\n",
       "      <td>1</td>\n",
       "      <td>0</td>\n",
       "      <td>0</td>\n",
       "      <td>0</td>\n",
       "      <td>0</td>\n",
       "      <td>0</td>\n",
       "      <td>1</td>\n",
       "      <td>0</td>\n",
       "      <td>0</td>\n",
       "      <td>0</td>\n",
       "      <td>1</td>\n",
       "      <td>0</td>\n",
       "      <td>0</td>\n",
       "      <td>1</td>\n",
       "      <td>0</td>\n",
       "      <td>0</td>\n",
       "    </tr>\n",
       "  </tbody>\n",
       "</table>\n",
       "</div>"
      ],
      "text/plain": [
       "           Q_3  Q_4       Q_5  Q_18  Q_19  Q_8_Primary  Q_8_Secondary  \\\n",
       "Serial_no                                                               \n",
       "1           27    8  0.951913     7     6            1              0   \n",
       "2           26   10  0.951912     8     7            1              0   \n",
       "3           26    6  0.951912     4     4            1              0   \n",
       "\n",
       "           Q_9_Neutral  Q_9_Very_much  Q_10_Bad  Q_10_Good  Q_11_Urban  \\\n",
       "Serial_no                                                                \n",
       "1                    0              0         1          0           0   \n",
       "2                    0              1         0          1           0   \n",
       "3                    0              1         0          1           1   \n",
       "\n",
       "           Q_12_Not_Applicable  Q_12_Yes  Q_13_Bad  Q_13_Good  Q_16_No  \\\n",
       "Serial_no                                                                \n",
       "1                            0         0         0          0        1   \n",
       "2                            0         0         0          0        0   \n",
       "3                            0         0         0          0        1   \n",
       "\n",
       "           Q_16_Yes  Q_17_No_Support  Q_17_Supportive  Q_21_Yes  Q_23_Yes  \\\n",
       "Serial_no                                                                   \n",
       "1                 0                0                0         1         0   \n",
       "2                 1                0                1         0         0   \n",
       "3                 0                0                0         1         0   \n",
       "\n",
       "           Q_24_Yes  Q_27_Urban  Q_29_Good  Q_29_Neutral  Q_31_Public  \\\n",
       "Serial_no                                                               \n",
       "1                 0           0          1             0            1   \n",
       "2                 1           0          1             0            1   \n",
       "3                 1           1          1             0            0   \n",
       "\n",
       "           Q_34_No  Q_34_Yes  Q_35_ii_Yes  Q_35_iii_Yes  Q_35_iv_Yes  \\\n",
       "Serial_no                                                              \n",
       "1                0         0            0             0            0   \n",
       "2                0         1            0             0            0   \n",
       "3                0         1            0             0            0   \n",
       "\n",
       "           Q_35_vi_Yes  Q_36_Yes  Q_37_iii_Disagree  Q_37_iii_Neutral  \\\n",
       "Serial_no                                                               \n",
       "1                    0         1                  0                 0   \n",
       "2                    1         1                  0                 0   \n",
       "3                    1         1                  1                 0   \n",
       "\n",
       "           Q_37_iii_Strongly_agree  Q_37_iii_Strongly_disagree  \\\n",
       "Serial_no                                                        \n",
       "1                                0                           1   \n",
       "2                                0                           1   \n",
       "3                                0                           0   \n",
       "\n",
       "           Q_37_iv_Disagree  Q_37_iv_Neutral  Q_37_iv_Strongly_agree  \\\n",
       "Serial_no                                                              \n",
       "1                         0                0                       1   \n",
       "2                         0                1                       0   \n",
       "3                         1                0                       0   \n",
       "\n",
       "           Q_37_iv_Strongly_disagree  Q_37_vi_Disagree  Q_37_vi_Neutral  \\\n",
       "Serial_no                                                                 \n",
       "1                                  0                 0                0   \n",
       "2                                  0                 1                0   \n",
       "3                                  0                 0                0   \n",
       "\n",
       "           Q_37_vi_Strongly_agree  Q_37_vi_Strongly_disagree  \\\n",
       "Serial_no                                                      \n",
       "1                               0                          1   \n",
       "2                               0                          0   \n",
       "3                               0                          1   \n",
       "\n",
       "           Q_37_vii_Disagree  Q_37_vii_Neutral  Q_37_vii_Strongly_agree  \\\n",
       "Serial_no                                                                 \n",
       "1                          0                 0                        0   \n",
       "2                          0                 0                        0   \n",
       "3                          1                 0                        0   \n",
       "\n",
       "           Q_37_vii_Strongly_disagree  Q_37_xiii_Disagree  Q_37_xiii_Neutral  \\\n",
       "Serial_no                                                                      \n",
       "1                                   1                   0                  0   \n",
       "2                                   1                   0                  0   \n",
       "3                                   0                   0                  0   \n",
       "\n",
       "           Q_37_xiii_Strongly_agree  Q_37_xiii_Strongly_disagree  \\\n",
       "Serial_no                                                          \n",
       "1                                 0                            1   \n",
       "2                                 1                            0   \n",
       "3                                 1                            0   \n",
       "\n",
       "           Q_37_xiv_Disagree  Q_37_xiv_Neutral  Q_37_xiv_Strongly_agree  \\\n",
       "Serial_no                                                                 \n",
       "1                          0                 0                        0   \n",
       "2                          0                 0                        1   \n",
       "3                          0                 0                        1   \n",
       "\n",
       "           Q_37_xiv_Strongly_disagree  Q_37_xv_Disagree  Q_37_xv_Neutral  \\\n",
       "Serial_no                                                                  \n",
       "1                                   1                 0                0   \n",
       "2                                   0                 0                0   \n",
       "3                                   0                 0                1   \n",
       "\n",
       "           Q_37_xv_Strongly_agree  Q_37_xv_Strongly_disagree  \n",
       "Serial_no                                                     \n",
       "1                               1                          0  \n",
       "2                               0                          0  \n",
       "3                               0                          0  "
      ]
     },
     "execution_count": 96,
     "metadata": {},
     "output_type": "execute_result"
    }
   ],
   "source": [
    "X = pd.get_dummies(X, columns=sig_factors[5:], drop_first=True)\n",
    "X.head(3)"
   ]
  },
  {
   "cell_type": "code",
   "execution_count": 103,
   "metadata": {},
   "outputs": [
    {
     "data": {
      "text/plain": [
       "object     57\n",
       "int64       4\n",
       "float64     1\n",
       "dtype: int64"
      ]
     },
     "execution_count": 103,
     "metadata": {},
     "output_type": "execute_result"
    }
   ],
   "source": [
    "X[X.columns[5:]] = X[X.columns[5:]].astype(object)\n",
    "X.dtypes.value_counts()"
   ]
  },
  {
   "cell_type": "code",
   "execution_count": 104,
   "metadata": {},
   "outputs": [
    {
     "ename": "ValueError",
     "evalue": "Pandas data cast to numpy dtype of object. Check input data with np.asarray(data).",
     "output_type": "error",
     "traceback": [
      "\u001b[1;31m---------------------------------------------------------------------------\u001b[0m",
      "\u001b[1;31mValueError\u001b[0m                                Traceback (most recent call last)",
      "Cell \u001b[1;32mIn[104], line 1\u001b[0m\n\u001b[1;32m----> 1\u001b[0m mlog \u001b[39m=\u001b[39m Logit(endog\u001b[39m=\u001b[39;49my, exog\u001b[39m=\u001b[39;49mX)\u001b[39m.\u001b[39mfit()\n",
      "File \u001b[1;32mc:\\Users\\Maruf\\miniconda3\\envs\\ds\\lib\\site-packages\\statsmodels\\discrete\\discrete_model.py:462\u001b[0m, in \u001b[0;36mBinaryModel.__init__\u001b[1;34m(self, endog, exog, check_rank, **kwargs)\u001b[0m\n\u001b[0;32m    459\u001b[0m \u001b[39mdef\u001b[39;00m \u001b[39m__init__\u001b[39m(\u001b[39mself\u001b[39m, endog, exog, check_rank\u001b[39m=\u001b[39m\u001b[39mTrue\u001b[39;00m, \u001b[39m*\u001b[39m\u001b[39m*\u001b[39mkwargs):\n\u001b[0;32m    460\u001b[0m     \u001b[39m# unconditional check, requires no extra kwargs added by subclasses\u001b[39;00m\n\u001b[0;32m    461\u001b[0m     \u001b[39mself\u001b[39m\u001b[39m.\u001b[39m_check_kwargs(kwargs)\n\u001b[1;32m--> 462\u001b[0m     \u001b[39msuper\u001b[39m()\u001b[39m.\u001b[39m\u001b[39m__init__\u001b[39m(endog, exog, check_rank, \u001b[39m*\u001b[39m\u001b[39m*\u001b[39mkwargs)\n\u001b[0;32m    463\u001b[0m     \u001b[39mif\u001b[39;00m \u001b[39mnot\u001b[39;00m \u001b[39missubclass\u001b[39m(\u001b[39mself\u001b[39m\u001b[39m.\u001b[39m\u001b[39m__class__\u001b[39m, MultinomialModel):\n\u001b[0;32m    464\u001b[0m         \u001b[39mif\u001b[39;00m \u001b[39mnot\u001b[39;00m np\u001b[39m.\u001b[39mall((\u001b[39mself\u001b[39m\u001b[39m.\u001b[39mendog \u001b[39m>\u001b[39m\u001b[39m=\u001b[39m \u001b[39m0\u001b[39m) \u001b[39m&\u001b[39m (\u001b[39mself\u001b[39m\u001b[39m.\u001b[39mendog \u001b[39m<\u001b[39m\u001b[39m=\u001b[39m \u001b[39m1\u001b[39m)):\n",
      "File \u001b[1;32mc:\\Users\\Maruf\\miniconda3\\envs\\ds\\lib\\site-packages\\statsmodels\\discrete\\discrete_model.py:178\u001b[0m, in \u001b[0;36mDiscreteModel.__init__\u001b[1;34m(self, endog, exog, check_rank, **kwargs)\u001b[0m\n\u001b[0;32m    176\u001b[0m \u001b[39mdef\u001b[39;00m \u001b[39m__init__\u001b[39m(\u001b[39mself\u001b[39m, endog, exog, check_rank\u001b[39m=\u001b[39m\u001b[39mTrue\u001b[39;00m, \u001b[39m*\u001b[39m\u001b[39m*\u001b[39mkwargs):\n\u001b[0;32m    177\u001b[0m     \u001b[39mself\u001b[39m\u001b[39m.\u001b[39m_check_rank \u001b[39m=\u001b[39m check_rank\n\u001b[1;32m--> 178\u001b[0m     \u001b[39msuper\u001b[39m()\u001b[39m.\u001b[39m\u001b[39m__init__\u001b[39m(endog, exog, \u001b[39m*\u001b[39m\u001b[39m*\u001b[39mkwargs)\n\u001b[0;32m    179\u001b[0m     \u001b[39mself\u001b[39m\u001b[39m.\u001b[39mraise_on_perfect_prediction \u001b[39m=\u001b[39m \u001b[39mTrue\u001b[39;00m\n",
      "File \u001b[1;32mc:\\Users\\Maruf\\miniconda3\\envs\\ds\\lib\\site-packages\\statsmodels\\base\\model.py:267\u001b[0m, in \u001b[0;36mLikelihoodModel.__init__\u001b[1;34m(self, endog, exog, **kwargs)\u001b[0m\n\u001b[0;32m    266\u001b[0m \u001b[39mdef\u001b[39;00m \u001b[39m__init__\u001b[39m(\u001b[39mself\u001b[39m, endog, exog\u001b[39m=\u001b[39m\u001b[39mNone\u001b[39;00m, \u001b[39m*\u001b[39m\u001b[39m*\u001b[39mkwargs):\n\u001b[1;32m--> 267\u001b[0m     \u001b[39msuper\u001b[39m()\u001b[39m.\u001b[39m\u001b[39m__init__\u001b[39m(endog, exog, \u001b[39m*\u001b[39m\u001b[39m*\u001b[39mkwargs)\n\u001b[0;32m    268\u001b[0m     \u001b[39mself\u001b[39m\u001b[39m.\u001b[39minitialize()\n",
      "File \u001b[1;32mc:\\Users\\Maruf\\miniconda3\\envs\\ds\\lib\\site-packages\\statsmodels\\base\\model.py:92\u001b[0m, in \u001b[0;36mModel.__init__\u001b[1;34m(self, endog, exog, **kwargs)\u001b[0m\n\u001b[0;32m     90\u001b[0m missing \u001b[39m=\u001b[39m kwargs\u001b[39m.\u001b[39mpop(\u001b[39m'\u001b[39m\u001b[39mmissing\u001b[39m\u001b[39m'\u001b[39m, \u001b[39m'\u001b[39m\u001b[39mnone\u001b[39m\u001b[39m'\u001b[39m)\n\u001b[0;32m     91\u001b[0m hasconst \u001b[39m=\u001b[39m kwargs\u001b[39m.\u001b[39mpop(\u001b[39m'\u001b[39m\u001b[39mhasconst\u001b[39m\u001b[39m'\u001b[39m, \u001b[39mNone\u001b[39;00m)\n\u001b[1;32m---> 92\u001b[0m \u001b[39mself\u001b[39m\u001b[39m.\u001b[39mdata \u001b[39m=\u001b[39m \u001b[39mself\u001b[39m\u001b[39m.\u001b[39m_handle_data(endog, exog, missing, hasconst,\n\u001b[0;32m     93\u001b[0m                               \u001b[39m*\u001b[39m\u001b[39m*\u001b[39mkwargs)\n\u001b[0;32m     94\u001b[0m \u001b[39mself\u001b[39m\u001b[39m.\u001b[39mk_constant \u001b[39m=\u001b[39m \u001b[39mself\u001b[39m\u001b[39m.\u001b[39mdata\u001b[39m.\u001b[39mk_constant\n\u001b[0;32m     95\u001b[0m \u001b[39mself\u001b[39m\u001b[39m.\u001b[39mexog \u001b[39m=\u001b[39m \u001b[39mself\u001b[39m\u001b[39m.\u001b[39mdata\u001b[39m.\u001b[39mexog\n",
      "File \u001b[1;32mc:\\Users\\Maruf\\miniconda3\\envs\\ds\\lib\\site-packages\\statsmodels\\base\\model.py:132\u001b[0m, in \u001b[0;36mModel._handle_data\u001b[1;34m(self, endog, exog, missing, hasconst, **kwargs)\u001b[0m\n\u001b[0;32m    131\u001b[0m \u001b[39mdef\u001b[39;00m \u001b[39m_handle_data\u001b[39m(\u001b[39mself\u001b[39m, endog, exog, missing, hasconst, \u001b[39m*\u001b[39m\u001b[39m*\u001b[39mkwargs):\n\u001b[1;32m--> 132\u001b[0m     data \u001b[39m=\u001b[39m handle_data(endog, exog, missing, hasconst, \u001b[39m*\u001b[39m\u001b[39m*\u001b[39mkwargs)\n\u001b[0;32m    133\u001b[0m     \u001b[39m# kwargs arrays could have changed, easier to just attach here\u001b[39;00m\n\u001b[0;32m    134\u001b[0m     \u001b[39mfor\u001b[39;00m key \u001b[39min\u001b[39;00m kwargs:\n",
      "File \u001b[1;32mc:\\Users\\Maruf\\miniconda3\\envs\\ds\\lib\\site-packages\\statsmodels\\base\\data.py:673\u001b[0m, in \u001b[0;36mhandle_data\u001b[1;34m(endog, exog, missing, hasconst, **kwargs)\u001b[0m\n\u001b[0;32m    670\u001b[0m     exog \u001b[39m=\u001b[39m np\u001b[39m.\u001b[39masarray(exog)\n\u001b[0;32m    672\u001b[0m klass \u001b[39m=\u001b[39m handle_data_class_factory(endog, exog)\n\u001b[1;32m--> 673\u001b[0m \u001b[39mreturn\u001b[39;00m klass(endog, exog\u001b[39m=\u001b[39mexog, missing\u001b[39m=\u001b[39mmissing, hasconst\u001b[39m=\u001b[39mhasconst,\n\u001b[0;32m    674\u001b[0m              \u001b[39m*\u001b[39m\u001b[39m*\u001b[39mkwargs)\n",
      "File \u001b[1;32mc:\\Users\\Maruf\\miniconda3\\envs\\ds\\lib\\site-packages\\statsmodels\\base\\data.py:82\u001b[0m, in \u001b[0;36mModelData.__init__\u001b[1;34m(self, endog, exog, missing, hasconst, **kwargs)\u001b[0m\n\u001b[0;32m     80\u001b[0m     \u001b[39mself\u001b[39m\u001b[39m.\u001b[39morig_endog \u001b[39m=\u001b[39m endog\n\u001b[0;32m     81\u001b[0m     \u001b[39mself\u001b[39m\u001b[39m.\u001b[39morig_exog \u001b[39m=\u001b[39m exog\n\u001b[1;32m---> 82\u001b[0m     \u001b[39mself\u001b[39m\u001b[39m.\u001b[39mendog, \u001b[39mself\u001b[39m\u001b[39m.\u001b[39mexog \u001b[39m=\u001b[39m \u001b[39mself\u001b[39;49m\u001b[39m.\u001b[39;49m_convert_endog_exog(endog, exog)\n\u001b[0;32m     84\u001b[0m \u001b[39mself\u001b[39m\u001b[39m.\u001b[39mconst_idx \u001b[39m=\u001b[39m \u001b[39mNone\u001b[39;00m\n\u001b[0;32m     85\u001b[0m \u001b[39mself\u001b[39m\u001b[39m.\u001b[39mk_constant \u001b[39m=\u001b[39m \u001b[39m0\u001b[39m\n",
      "File \u001b[1;32mc:\\Users\\Maruf\\miniconda3\\envs\\ds\\lib\\site-packages\\statsmodels\\base\\data.py:507\u001b[0m, in \u001b[0;36mPandasData._convert_endog_exog\u001b[1;34m(self, endog, exog)\u001b[0m\n\u001b[0;32m    505\u001b[0m exog \u001b[39m=\u001b[39m exog \u001b[39mif\u001b[39;00m exog \u001b[39mis\u001b[39;00m \u001b[39mNone\u001b[39;00m \u001b[39melse\u001b[39;00m np\u001b[39m.\u001b[39masarray(exog)\n\u001b[0;32m    506\u001b[0m \u001b[39mif\u001b[39;00m endog\u001b[39m.\u001b[39mdtype \u001b[39m==\u001b[39m \u001b[39mobject\u001b[39m \u001b[39mor\u001b[39;00m exog \u001b[39mis\u001b[39;00m \u001b[39mnot\u001b[39;00m \u001b[39mNone\u001b[39;00m \u001b[39mand\u001b[39;00m exog\u001b[39m.\u001b[39mdtype \u001b[39m==\u001b[39m \u001b[39mobject\u001b[39m:\n\u001b[1;32m--> 507\u001b[0m     \u001b[39mraise\u001b[39;00m \u001b[39mValueError\u001b[39;00m(\u001b[39m\"\u001b[39m\u001b[39mPandas data cast to numpy dtype of object. \u001b[39m\u001b[39m\"\u001b[39m\n\u001b[0;32m    508\u001b[0m                      \u001b[39m\"\u001b[39m\u001b[39mCheck input data with np.asarray(data).\u001b[39m\u001b[39m\"\u001b[39m)\n\u001b[0;32m    509\u001b[0m \u001b[39mreturn\u001b[39;00m \u001b[39msuper\u001b[39m(PandasData, \u001b[39mself\u001b[39m)\u001b[39m.\u001b[39m_convert_endog_exog(endog, exog)\n",
      "\u001b[1;31mValueError\u001b[0m: Pandas data cast to numpy dtype of object. Check input data with np.asarray(data)."
     ]
    }
   ],
   "source": [
    "mlog = Logit(endog=y, exog=X).fit()"
   ]
  },
  {
   "cell_type": "code",
   "execution_count": null,
   "metadata": {},
   "outputs": [],
   "source": [
    "# X = df.drop('Drop_out', axis=1)\n",
    "# y = df['Drop_out']"
   ]
  },
  {
   "cell_type": "code",
   "execution_count": null,
   "metadata": {},
   "outputs": [],
   "source": [
    "# from sklearn.model_selection import train_test_split\n",
    "# X_train, X_test, y_train, y_test = train_test_split(X, y, test_size = 0.25, random_state = 0)"
   ]
  },
  {
   "cell_type": "code",
   "execution_count": null,
   "metadata": {},
   "outputs": [],
   "source": [
    "# from sklearn.linear_model import LogisticRegression\n",
    "# classifier = LogisticRegression(random_state = 0)\n",
    "# classifier.fit(X_train, y_train)"
   ]
  }
 ],
 "metadata": {
  "kernelspec": {
   "display_name": "Python 3 (ipykernel)",
   "language": "python",
   "name": "python3"
  },
  "language_info": {
   "codemirror_mode": {
    "name": "ipython",
    "version": 3
   },
   "file_extension": ".py",
   "mimetype": "text/x-python",
   "name": "python",
   "nbconvert_exporter": "python",
   "pygments_lexer": "ipython3",
   "version": "3.10.8"
  },
  "vscode": {
   "interpreter": {
    "hash": "ce1ba4e724cb085a996bc925b45aa1a564492425582160bf6044a7ce1100eb81"
   }
  }
 },
 "nbformat": 4,
 "nbformat_minor": 4
}
